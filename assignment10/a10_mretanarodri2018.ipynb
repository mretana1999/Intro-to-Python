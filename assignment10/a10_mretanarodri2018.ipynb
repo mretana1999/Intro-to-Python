{
  "nbformat": 4,
  "nbformat_minor": 0,
  "metadata": {
    "colab": {
      "name": "a10_mretanarodri2018.ipynb",
      "provenance": [],
      "collapsed_sections": [],
      "include_colab_link": true
    },
    "kernelspec": {
      "display_name": "Python [default]",
      "language": "python",
      "name": "python3"
    },
    "language_info": {
      "codemirror_mode": {
        "name": "ipython",
        "version": 3
      },
      "file_extension": ".py",
      "mimetype": "text/x-python",
      "name": "python",
      "nbconvert_exporter": "python",
      "pygments_lexer": "ipython3",
      "version": "3.6.8"
    }
  },
  "cells": [
    {
      "cell_type": "markdown",
      "metadata": {
        "id": "view-in-github",
        "colab_type": "text"
      },
      "source": [
        "<a href=\"https://colab.research.google.com/github/mretana1999/Intro-to-Python/blob/main/assignment10/a10_mretanarodri2018.ipynb\" target=\"_parent\"><img src=\"https://colab.research.google.com/assets/colab-badge.svg\" alt=\"Open In Colab\"/></a>"
      ]
    },
    {
      "cell_type": "markdown",
      "metadata": {
        "id": "p78j872pOKTZ"
      },
      "source": [
        "# COP 4045 - Python Programming - Dr. Marques - Summer 2021\n",
        "\n",
        "---\n",
        "\n",
        "## Student Name: Mauricio Retana Rodriguez Z#23484829\n"
      ]
    },
    {
      "cell_type": "markdown",
      "metadata": {
        "id": "NYmNMHGLOKTa"
      },
      "source": [
        "# Assignment 10: Introducing the Python Data Science stack\n",
        "## STARTER "
      ]
    },
    {
      "cell_type": "markdown",
      "metadata": {
        "id": "9UMnsRndOKTb"
      },
      "source": [
        "### Goals \n",
        "\n",
        "- To acquire a basic understanding of the Python \"data science stack\" (NumPy, Pandas, Matplotlib, Scikit-Learn).\n",
        "- To have an early experience of manipulating, summarizing, and visualizing small datasets. \n",
        "- To demonstrate the ability to write Python code to answer questions and test hypotheses based on the contents of those datasets.\n",
        "- To learn how to implement several different machine learning classification models in Python \n",
        "- To learn how to test a model and produce a set of plots and performance measures"
      ]
    },
    {
      "cell_type": "markdown",
      "metadata": {
        "id": "B0rEAT7MOKTb"
      },
      "source": [
        "### Instructions\n",
        "\n",
        "- This assignment is structured in two parts.\n",
        "- For each part, there will be some Python code to be written and questions to be answered.\n",
        "- At the end, you should export your notebook to PDF format; it will \"automagically\" become your report.\n",
        "- Submit the report (PDF), notebook (.ipynb file), and the link to the \"live\" version of your solution on Google Colaboratory via Canvas.\n",
        "- The number of points is indicated next to each part. They add up to 100.\n",
        "- There are additional (10 points worth of) bonus items, which are, of course optional."
      ]
    },
    {
      "cell_type": "markdown",
      "metadata": {
        "id": "qiufouQn6OD9"
      },
      "source": [
        "### Important\n",
        "\n",
        "- It is OK to attempt the bonus points, but please **do not overdo it!** \n",
        "- Remember: this is an early exercise in exploring datasets; learning the syntax and \"tricks\" of Python, Jupyter notebooks, Numpy, Pandas, and Matplotlib; and writing code to use data to test simple hypotheses, produce answers to simple questions, or make predictions.\n"
      ]
    },
    {
      "cell_type": "markdown",
      "metadata": {
        "id": "UgM90DRHHHdK"
      },
      "source": [
        "---------\n",
        "### Imports + Google Drive"
      ]
    },
    {
      "cell_type": "code",
      "metadata": {
        "id": "5uC7gGB7H_Kz"
      },
      "source": [
        "# Imports\n",
        "import numpy as np\n",
        "import pandas as pd\n",
        "from pandas import DataFrame, Series\n",
        "import matplotlib.pyplot as plt\n",
        "from scipy.stats import pearsonr\n",
        "from __future__ import division\n",
        "import seaborn as sns\n",
        "sns.set(style='ticks', palette='Set2')\n",
        "%matplotlib inline"
      ],
      "execution_count": null,
      "outputs": []
    },
    {
      "cell_type": "code",
      "metadata": {
        "id": "B2qHzn_CG8rZ"
      },
      "source": [
        "# OPTIONAL \n",
        "# Mount Google Drive\n",
        "# from google.colab import drive\n",
        "# drive.mount('/content/drive')"
      ],
      "execution_count": null,
      "outputs": []
    },
    {
      "cell_type": "markdown",
      "metadata": {
        "id": "G2J9o001OKTx"
      },
      "source": [
        "-------------------\n",
        "## Part 1: EDA"
      ]
    },
    {
      "cell_type": "markdown",
      "metadata": {
        "id": "T1EXw38-OKTy"
      },
      "source": [
        "The Python code below will load a dataset containing the salaries and demographic data of more than 1000 employees of a hypothetical company, available in the file *salaries.csv*, which is a simple comma-separated list of labels and values."
      ]
    },
    {
      "cell_type": "code",
      "metadata": {
        "id": "lv1MGinjOKTz",
        "colab": {
          "resources": {
            "http://localhost:8080/nbextensions/google.colab/files.js": {
              "data": "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",
              "ok": true,
              "headers": [
                [
                  "content-type",
                  "application/javascript"
                ]
              ],
              "status": 200,
              "status_text": ""
            }
          },
          "base_uri": "https://localhost:8080/",
          "height": 72
        },
        "outputId": "97fdb997-b6ed-4462-da8e-6cf4bc8a8dad"
      },
      "source": [
        "#salaries = pd.read_csv('/content/drive/My Drive/Colab Notebooks/data/salaries.csv') \n",
        "#salaries = pd.read_csv('./data/salaries.csv') \n",
        "\n",
        "from google.colab import files\n",
        "uploaded = files.upload()\n",
        "import io\n",
        "salaries = pd.read_csv(io.StringIO(uploaded['salaries.csv'].decode('utf-8')))"
      ],
      "execution_count": null,
      "outputs": [
        {
          "output_type": "display_data",
          "data": {
            "text/html": [
              "\n",
              "     <input type=\"file\" id=\"files-71be1b76-52ef-4b45-91bb-93d6088b4131\" name=\"files[]\" multiple disabled\n",
              "        style=\"border:none\" />\n",
              "     <output id=\"result-71be1b76-52ef-4b45-91bb-93d6088b4131\">\n",
              "      Upload widget is only available when the cell has been executed in the\n",
              "      current browser session. Please rerun this cell to enable.\n",
              "      </output>\n",
              "      <script src=\"/nbextensions/google.colab/files.js\"></script> "
            ],
            "text/plain": [
              "<IPython.core.display.HTML object>"
            ]
          },
          "metadata": {
            "tags": []
          }
        },
        {
          "output_type": "stream",
          "text": [
            "Saving salaries.csv to salaries.csv\n"
          ],
          "name": "stdout"
        }
      ]
    },
    {
      "cell_type": "code",
      "metadata": {
        "colab": {
          "base_uri": "https://localhost:8080/"
        },
        "id": "8zuOLlCUoqnk",
        "outputId": "cc16fdec-511c-45e7-8590-e7f83c62c393"
      },
      "source": [
        "print(salaries.shape)\n",
        "print(salaries.count())"
      ],
      "execution_count": null,
      "outputs": [
        {
          "output_type": "stream",
          "text": [
            "(1192, 6)\n",
            "earn      1192\n",
            "height    1192\n",
            "sex       1192\n",
            "ed        1192\n",
            "age       1192\n",
            "race      1192\n",
            "dtype: int64\n"
          ],
          "name": "stdout"
        }
      ]
    },
    {
      "cell_type": "code",
      "metadata": {
        "id": "R87GQz-ILPv4",
        "colab": {
          "base_uri": "https://localhost:8080/",
          "height": 204
        },
        "outputId": "261b275c-3f91-4bcc-d928-ee983efebc9c"
      },
      "source": [
        "salaries.head()"
      ],
      "execution_count": null,
      "outputs": [
        {
          "output_type": "execute_result",
          "data": {
            "text/html": [
              "<div>\n",
              "<style scoped>\n",
              "    .dataframe tbody tr th:only-of-type {\n",
              "        vertical-align: middle;\n",
              "    }\n",
              "\n",
              "    .dataframe tbody tr th {\n",
              "        vertical-align: top;\n",
              "    }\n",
              "\n",
              "    .dataframe thead th {\n",
              "        text-align: right;\n",
              "    }\n",
              "</style>\n",
              "<table border=\"1\" class=\"dataframe\">\n",
              "  <thead>\n",
              "    <tr style=\"text-align: right;\">\n",
              "      <th></th>\n",
              "      <th>earn</th>\n",
              "      <th>height</th>\n",
              "      <th>sex</th>\n",
              "      <th>ed</th>\n",
              "      <th>age</th>\n",
              "      <th>race</th>\n",
              "    </tr>\n",
              "  </thead>\n",
              "  <tbody>\n",
              "    <tr>\n",
              "      <th>0</th>\n",
              "      <td>50000.0</td>\n",
              "      <td>74.424439</td>\n",
              "      <td>male</td>\n",
              "      <td>16</td>\n",
              "      <td>45</td>\n",
              "      <td>white</td>\n",
              "    </tr>\n",
              "    <tr>\n",
              "      <th>1</th>\n",
              "      <td>60000.0</td>\n",
              "      <td>65.537543</td>\n",
              "      <td>female</td>\n",
              "      <td>16</td>\n",
              "      <td>58</td>\n",
              "      <td>white</td>\n",
              "    </tr>\n",
              "    <tr>\n",
              "      <th>2</th>\n",
              "      <td>30000.0</td>\n",
              "      <td>63.629198</td>\n",
              "      <td>female</td>\n",
              "      <td>16</td>\n",
              "      <td>29</td>\n",
              "      <td>white</td>\n",
              "    </tr>\n",
              "    <tr>\n",
              "      <th>3</th>\n",
              "      <td>50000.0</td>\n",
              "      <td>63.108562</td>\n",
              "      <td>female</td>\n",
              "      <td>16</td>\n",
              "      <td>91</td>\n",
              "      <td>other</td>\n",
              "    </tr>\n",
              "    <tr>\n",
              "      <th>4</th>\n",
              "      <td>51000.0</td>\n",
              "      <td>63.402484</td>\n",
              "      <td>female</td>\n",
              "      <td>17</td>\n",
              "      <td>39</td>\n",
              "      <td>white</td>\n",
              "    </tr>\n",
              "  </tbody>\n",
              "</table>\n",
              "</div>"
            ],
            "text/plain": [
              "      earn     height     sex  ed  age   race\n",
              "0  50000.0  74.424439    male  16   45  white\n",
              "1  60000.0  65.537543  female  16   58  white\n",
              "2  30000.0  63.629198  female  16   29  white\n",
              "3  50000.0  63.108562  female  16   91  other\n",
              "4  51000.0  63.402484  female  17   39  white"
            ]
          },
          "metadata": {
            "tags": []
          },
          "execution_count": 11
        }
      ]
    },
    {
      "cell_type": "code",
      "metadata": {
        "id": "2fmIimSv3RfT",
        "colab": {
          "base_uri": "https://localhost:8080/",
          "height": 297
        },
        "outputId": "d7f382ac-696d-4540-816b-6679102da4bd"
      },
      "source": [
        "salaries.describe()"
      ],
      "execution_count": null,
      "outputs": [
        {
          "output_type": "execute_result",
          "data": {
            "text/html": [
              "<div>\n",
              "<style scoped>\n",
              "    .dataframe tbody tr th:only-of-type {\n",
              "        vertical-align: middle;\n",
              "    }\n",
              "\n",
              "    .dataframe tbody tr th {\n",
              "        vertical-align: top;\n",
              "    }\n",
              "\n",
              "    .dataframe thead th {\n",
              "        text-align: right;\n",
              "    }\n",
              "</style>\n",
              "<table border=\"1\" class=\"dataframe\">\n",
              "  <thead>\n",
              "    <tr style=\"text-align: right;\">\n",
              "      <th></th>\n",
              "      <th>earn</th>\n",
              "      <th>height</th>\n",
              "      <th>ed</th>\n",
              "      <th>age</th>\n",
              "    </tr>\n",
              "  </thead>\n",
              "  <tbody>\n",
              "    <tr>\n",
              "      <th>count</th>\n",
              "      <td>1192.000000</td>\n",
              "      <td>1192.000000</td>\n",
              "      <td>1192.000000</td>\n",
              "      <td>1192.000000</td>\n",
              "    </tr>\n",
              "    <tr>\n",
              "      <th>mean</th>\n",
              "      <td>23154.773490</td>\n",
              "      <td>66.915154</td>\n",
              "      <td>13.504195</td>\n",
              "      <td>41.378356</td>\n",
              "    </tr>\n",
              "    <tr>\n",
              "      <th>std</th>\n",
              "      <td>19472.296925</td>\n",
              "      <td>3.853968</td>\n",
              "      <td>2.420175</td>\n",
              "      <td>15.867428</td>\n",
              "    </tr>\n",
              "    <tr>\n",
              "      <th>min</th>\n",
              "      <td>200.000000</td>\n",
              "      <td>57.503219</td>\n",
              "      <td>3.000000</td>\n",
              "      <td>18.000000</td>\n",
              "    </tr>\n",
              "    <tr>\n",
              "      <th>25%</th>\n",
              "      <td>10000.000000</td>\n",
              "      <td>64.009746</td>\n",
              "      <td>12.000000</td>\n",
              "      <td>29.000000</td>\n",
              "    </tr>\n",
              "    <tr>\n",
              "      <th>50%</th>\n",
              "      <td>20000.000000</td>\n",
              "      <td>66.451265</td>\n",
              "      <td>13.000000</td>\n",
              "      <td>38.000000</td>\n",
              "    </tr>\n",
              "    <tr>\n",
              "      <th>75%</th>\n",
              "      <td>30000.000000</td>\n",
              "      <td>69.848100</td>\n",
              "      <td>16.000000</td>\n",
              "      <td>51.000000</td>\n",
              "    </tr>\n",
              "    <tr>\n",
              "      <th>max</th>\n",
              "      <td>200000.000000</td>\n",
              "      <td>77.051282</td>\n",
              "      <td>18.000000</td>\n",
              "      <td>91.000000</td>\n",
              "    </tr>\n",
              "  </tbody>\n",
              "</table>\n",
              "</div>"
            ],
            "text/plain": [
              "                earn       height           ed          age\n",
              "count    1192.000000  1192.000000  1192.000000  1192.000000\n",
              "mean    23154.773490    66.915154    13.504195    41.378356\n",
              "std     19472.296925     3.853968     2.420175    15.867428\n",
              "min       200.000000    57.503219     3.000000    18.000000\n",
              "25%     10000.000000    64.009746    12.000000    29.000000\n",
              "50%     20000.000000    66.451265    13.000000    38.000000\n",
              "75%     30000.000000    69.848100    16.000000    51.000000\n",
              "max    200000.000000    77.051282    18.000000    91.000000"
            ]
          },
          "metadata": {
            "tags": []
          },
          "execution_count": 12
        }
      ]
    },
    {
      "cell_type": "markdown",
      "metadata": {
        "id": "-bvyTbsZOKT4"
      },
      "source": [
        "--------------------\n",
        "### Summary statistics and correlations\n",
        "\n",
        "Let's explore the dataset by plotting some graphs and displaying summary statistics. \n",
        "\n",
        "The code below should display:\n",
        "- Min, max, average, and median salary (global)\n",
        "- A histogram of salaries\n",
        "- A scatterplot correlating salaries and years of education\n",
        "- The (Pearson) correlation coefficient between the two variables.\n",
        "\n",
        "This should help us get started."
      ]
    },
    {
      "cell_type": "code",
      "metadata": {
        "id": "jai0zaQ1OKT5",
        "colab": {
          "base_uri": "https://localhost:8080/"
        },
        "outputId": "f93ff81b-54e5-478d-957f-1f33618cfbfe"
      },
      "source": [
        "salary = np.array(salaries['earn'])\n",
        "print(\"--- Salary statistics ---\")\n",
        "print(\"Minimum salary (global): ${:6.2f}\".format(np.min(salary)))\n",
        "print(\"Maximum salary (global): ${:6.2f}\".format(np.max(salary)))\n",
        "print(\"Average salary (global): ${:6.2f}\".format(np.mean(salary)))\n",
        "print(\"Median  salary (global): ${:6.2f}\".format(np.median(salary)))"
      ],
      "execution_count": null,
      "outputs": [
        {
          "output_type": "stream",
          "text": [
            "--- Salary statistics ---\n",
            "Minimum salary (global): $200.00\n",
            "Maximum salary (global): $200000.00\n",
            "Average salary (global): $23154.77\n",
            "Median  salary (global): $20000.00\n"
          ],
          "name": "stdout"
        }
      ]
    },
    {
      "cell_type": "code",
      "metadata": {
        "id": "MQSn8R8MOKT6",
        "colab": {
          "base_uri": "https://localhost:8080/",
          "height": 301
        },
        "outputId": "369d4156-96a7-4f4c-938f-02a923235dae"
      },
      "source": [
        "plt.hist(salary)\n",
        "plt.title('Salary Distribution')\n",
        "plt.xlabel('Salary')\n",
        "plt.ylabel('Number of Employees');"
      ],
      "execution_count": null,
      "outputs": [
        {
          "output_type": "display_data",
          "data": {
            "image/png": "[encoded data removed]",
            "text/plain": [
              "<Figure size 432x288 with 1 Axes>"
            ]
          },
          "metadata": {
            "tags": [],
            "needs_background": "light"
          }
        }
      ]
    },
    {
      "cell_type": "code",
      "metadata": {
        "id": "DIcrOnZ4OKT8",
        "colab": {
          "base_uri": "https://localhost:8080/",
          "height": 301
        },
        "outputId": "9c9c148a-fe97-4dad-85dd-202abf8dd09f"
      },
      "source": [
        "years = np.array(salaries['ed'])\n",
        "plt.title('Salary vs. Education Level')\n",
        "plt.ylabel('Salary')\n",
        "plt.xlabel('Years of education');\n",
        "plt.scatter(years, salary, alpha=0.5)\n",
        "plt.show()"
      ],
      "execution_count": null,
      "outputs": [
        {
          "output_type": "display_data",
          "data": {
            "image/png": "[encoded data removed]",
            "text/plain": [
              "<Figure size 432x288 with 1 Axes>"
            ]
          },
          "metadata": {
            "tags": [],
            "needs_background": "light"
          }
        }
      ]
    },
    {
      "cell_type": "code",
      "metadata": {
        "id": "fllJH1rfOKT_",
        "colab": {
          "base_uri": "https://localhost:8080/"
        },
        "outputId": "5b7151fd-860c-4958-cb96-cf71d8c08548"
      },
      "source": [
        "# Compute Pearson coefficient\n",
        "corr, _ = pearsonr(salary,years)\n",
        "print('Correlation coefficient: ',corr)"
      ],
      "execution_count": null,
      "outputs": [
        {
          "output_type": "stream",
          "text": [
            "Correlation coefficient:  0.3399765246894847\n"
          ],
          "name": "stdout"
        }
      ]
    },
    {
      "cell_type": "markdown",
      "metadata": {
        "id": "-n2_sL4UOKUA"
      },
      "source": [
        "The [Pearson correlation coefficient](https://en.wikipedia.org/wiki/Pearson_correlation_coefficient) (a value between -1 and 1) can be used to summarize the strength of the linear relationship between two data samples.\n",
        "\n",
        "A simplified way to interpret the result is (see table 1 [here](https://www.ncbi.nlm.nih.gov/pmc/articles/PMC6107969/)):\n",
        "- A value of 0 means no correlation\n",
        "- Values below -0.5 or above 0.5 indicates a notable (negative/positive) correlation"
      ]
    },
    {
      "cell_type": "markdown",
      "metadata": {
        "id": "oVXf-zPyOKUB"
      },
      "source": [
        "### 1.1 Your turn! (10-14 points)\n",
        "\n",
        "Write code to:\n",
        "\n",
        "1. Display the total headcount and the number (and %) of male and female employees. (2 pts)\n",
        "2. Compute and display the min, max, average, and median salary *per gender*. (8 pts)\n",
        "3. (OPTIONAL) Plot meaningful graphs that could provide insight into the gender inequality (*if any is present*) associated with the salaries in the company. (<= 4 bonus points)\n"
      ]
    },
    {
      "cell_type": "code",
      "metadata": {
        "id": "PyzLB_FILa6y",
        "colab": {
          "base_uri": "https://localhost:8080/",
          "height": 419
        },
        "outputId": "93457dfd-390a-41f9-931b-8261d9ff24b7"
      },
      "source": [
        "# Enter your code here\n",
        "salaries"
      ],
      "execution_count": null,
      "outputs": [
        {
          "output_type": "execute_result",
          "data": {
            "text/html": [
              "<div>\n",
              "<style scoped>\n",
              "    .dataframe tbody tr th:only-of-type {\n",
              "        vertical-align: middle;\n",
              "    }\n",
              "\n",
              "    .dataframe tbody tr th {\n",
              "        vertical-align: top;\n",
              "    }\n",
              "\n",
              "    .dataframe thead th {\n",
              "        text-align: right;\n",
              "    }\n",
              "</style>\n",
              "<table border=\"1\" class=\"dataframe\">\n",
              "  <thead>\n",
              "    <tr style=\"text-align: right;\">\n",
              "      <th></th>\n",
              "      <th>earn</th>\n",
              "      <th>height</th>\n",
              "      <th>sex</th>\n",
              "      <th>ed</th>\n",
              "      <th>age</th>\n",
              "      <th>race</th>\n",
              "    </tr>\n",
              "  </thead>\n",
              "  <tbody>\n",
              "    <tr>\n",
              "      <th>0</th>\n",
              "      <td>50000.0</td>\n",
              "      <td>74.424439</td>\n",
              "      <td>male</td>\n",
              "      <td>16</td>\n",
              "      <td>45</td>\n",
              "      <td>white</td>\n",
              "    </tr>\n",
              "    <tr>\n",
              "      <th>1</th>\n",
              "      <td>60000.0</td>\n",
              "      <td>65.537543</td>\n",
              "      <td>female</td>\n",
              "      <td>16</td>\n",
              "      <td>58</td>\n",
              "      <td>white</td>\n",
              "    </tr>\n",
              "    <tr>\n",
              "      <th>2</th>\n",
              "      <td>30000.0</td>\n",
              "      <td>63.629198</td>\n",
              "      <td>female</td>\n",
              "      <td>16</td>\n",
              "      <td>29</td>\n",
              "      <td>white</td>\n",
              "    </tr>\n",
              "    <tr>\n",
              "      <th>3</th>\n",
              "      <td>50000.0</td>\n",
              "      <td>63.108562</td>\n",
              "      <td>female</td>\n",
              "      <td>16</td>\n",
              "      <td>91</td>\n",
              "      <td>other</td>\n",
              "    </tr>\n",
              "    <tr>\n",
              "      <th>4</th>\n",
              "      <td>51000.0</td>\n",
              "      <td>63.402484</td>\n",
              "      <td>female</td>\n",
              "      <td>17</td>\n",
              "      <td>39</td>\n",
              "      <td>white</td>\n",
              "    </tr>\n",
              "    <tr>\n",
              "      <th>...</th>\n",
              "      <td>...</td>\n",
              "      <td>...</td>\n",
              "      <td>...</td>\n",
              "      <td>...</td>\n",
              "      <td>...</td>\n",
              "      <td>...</td>\n",
              "    </tr>\n",
              "    <tr>\n",
              "      <th>1187</th>\n",
              "      <td>19000.0</td>\n",
              "      <td>72.165733</td>\n",
              "      <td>male</td>\n",
              "      <td>12</td>\n",
              "      <td>29</td>\n",
              "      <td>white</td>\n",
              "    </tr>\n",
              "    <tr>\n",
              "      <th>1188</th>\n",
              "      <td>15000.0</td>\n",
              "      <td>61.135800</td>\n",
              "      <td>female</td>\n",
              "      <td>18</td>\n",
              "      <td>82</td>\n",
              "      <td>white</td>\n",
              "    </tr>\n",
              "    <tr>\n",
              "      <th>1189</th>\n",
              "      <td>8000.0</td>\n",
              "      <td>63.664164</td>\n",
              "      <td>female</td>\n",
              "      <td>12</td>\n",
              "      <td>33</td>\n",
              "      <td>white</td>\n",
              "    </tr>\n",
              "    <tr>\n",
              "      <th>1190</th>\n",
              "      <td>60000.0</td>\n",
              "      <td>71.925836</td>\n",
              "      <td>male</td>\n",
              "      <td>12</td>\n",
              "      <td>50</td>\n",
              "      <td>white</td>\n",
              "    </tr>\n",
              "    <tr>\n",
              "      <th>1191</th>\n",
              "      <td>6000.0</td>\n",
              "      <td>68.368486</td>\n",
              "      <td>male</td>\n",
              "      <td>12</td>\n",
              "      <td>27</td>\n",
              "      <td>white</td>\n",
              "    </tr>\n",
              "  </tbody>\n",
              "</table>\n",
              "<p>1192 rows × 6 columns</p>\n",
              "</div>"
            ],
            "text/plain": [
              "         earn     height     sex  ed  age   race\n",
              "0     50000.0  74.424439    male  16   45  white\n",
              "1     60000.0  65.537543  female  16   58  white\n",
              "2     30000.0  63.629198  female  16   29  white\n",
              "3     50000.0  63.108562  female  16   91  other\n",
              "4     51000.0  63.402484  female  17   39  white\n",
              "...       ...        ...     ...  ..  ...    ...\n",
              "1187  19000.0  72.165733    male  12   29  white\n",
              "1188  15000.0  61.135800  female  18   82  white\n",
              "1189   8000.0  63.664164  female  12   33  white\n",
              "1190  60000.0  71.925836    male  12   50  white\n",
              "1191   6000.0  68.368486    male  12   27  white\n",
              "\n",
              "[1192 rows x 6 columns]"
            ]
          },
          "metadata": {
            "tags": []
          },
          "execution_count": 17
        }
      ]
    },
    {
      "cell_type": "code",
      "metadata": {
        "id": "Rim1rQ1EPemg"
      },
      "source": [
        "salaries_female = salaries[salaries['sex'] == 'female']\n",
        "salaries_male = salaries[salaries['sex'] == 'male']"
      ],
      "execution_count": null,
      "outputs": []
    },
    {
      "cell_type": "code",
      "metadata": {
        "colab": {
          "base_uri": "https://localhost:8080/",
          "height": 419
        },
        "id": "0IAERFJCQfSi",
        "outputId": "d28dacfd-3e4c-45c3-9a22-5e9a81ec5dc4"
      },
      "source": [
        "salaries_male"
      ],
      "execution_count": null,
      "outputs": [
        {
          "output_type": "execute_result",
          "data": {
            "text/html": [
              "<div>\n",
              "<style scoped>\n",
              "    .dataframe tbody tr th:only-of-type {\n",
              "        vertical-align: middle;\n",
              "    }\n",
              "\n",
              "    .dataframe tbody tr th {\n",
              "        vertical-align: top;\n",
              "    }\n",
              "\n",
              "    .dataframe thead th {\n",
              "        text-align: right;\n",
              "    }\n",
              "</style>\n",
              "<table border=\"1\" class=\"dataframe\">\n",
              "  <thead>\n",
              "    <tr style=\"text-align: right;\">\n",
              "      <th></th>\n",
              "      <th>earn</th>\n",
              "      <th>height</th>\n",
              "      <th>sex</th>\n",
              "      <th>ed</th>\n",
              "      <th>age</th>\n",
              "      <th>race</th>\n",
              "    </tr>\n",
              "  </thead>\n",
              "  <tbody>\n",
              "    <tr>\n",
              "      <th>0</th>\n",
              "      <td>50000.0</td>\n",
              "      <td>74.424439</td>\n",
              "      <td>male</td>\n",
              "      <td>16</td>\n",
              "      <td>45</td>\n",
              "      <td>white</td>\n",
              "    </tr>\n",
              "    <tr>\n",
              "      <th>7</th>\n",
              "      <td>32000.0</td>\n",
              "      <td>72.698544</td>\n",
              "      <td>male</td>\n",
              "      <td>17</td>\n",
              "      <td>46</td>\n",
              "      <td>white</td>\n",
              "    </tr>\n",
              "    <tr>\n",
              "      <th>8</th>\n",
              "      <td>2000.0</td>\n",
              "      <td>72.039467</td>\n",
              "      <td>male</td>\n",
              "      <td>15</td>\n",
              "      <td>21</td>\n",
              "      <td>hispanic</td>\n",
              "    </tr>\n",
              "    <tr>\n",
              "      <th>9</th>\n",
              "      <td>27000.0</td>\n",
              "      <td>72.234933</td>\n",
              "      <td>male</td>\n",
              "      <td>12</td>\n",
              "      <td>26</td>\n",
              "      <td>white</td>\n",
              "    </tr>\n",
              "    <tr>\n",
              "      <th>10</th>\n",
              "      <td>6530.0</td>\n",
              "      <td>69.512146</td>\n",
              "      <td>male</td>\n",
              "      <td>16</td>\n",
              "      <td>65</td>\n",
              "      <td>white</td>\n",
              "    </tr>\n",
              "    <tr>\n",
              "      <th>...</th>\n",
              "      <td>...</td>\n",
              "      <td>...</td>\n",
              "      <td>...</td>\n",
              "      <td>...</td>\n",
              "      <td>...</td>\n",
              "      <td>...</td>\n",
              "    </tr>\n",
              "    <tr>\n",
              "      <th>1184</th>\n",
              "      <td>55000.0</td>\n",
              "      <td>68.995890</td>\n",
              "      <td>male</td>\n",
              "      <td>18</td>\n",
              "      <td>71</td>\n",
              "      <td>white</td>\n",
              "    </tr>\n",
              "    <tr>\n",
              "      <th>1185</th>\n",
              "      <td>58000.0</td>\n",
              "      <td>70.343370</td>\n",
              "      <td>male</td>\n",
              "      <td>18</td>\n",
              "      <td>53</td>\n",
              "      <td>white</td>\n",
              "    </tr>\n",
              "    <tr>\n",
              "      <th>1187</th>\n",
              "      <td>19000.0</td>\n",
              "      <td>72.165733</td>\n",
              "      <td>male</td>\n",
              "      <td>12</td>\n",
              "      <td>29</td>\n",
              "      <td>white</td>\n",
              "    </tr>\n",
              "    <tr>\n",
              "      <th>1190</th>\n",
              "      <td>60000.0</td>\n",
              "      <td>71.925836</td>\n",
              "      <td>male</td>\n",
              "      <td>12</td>\n",
              "      <td>50</td>\n",
              "      <td>white</td>\n",
              "    </tr>\n",
              "    <tr>\n",
              "      <th>1191</th>\n",
              "      <td>6000.0</td>\n",
              "      <td>68.368486</td>\n",
              "      <td>male</td>\n",
              "      <td>12</td>\n",
              "      <td>27</td>\n",
              "      <td>white</td>\n",
              "    </tr>\n",
              "  </tbody>\n",
              "</table>\n",
              "<p>505 rows × 6 columns</p>\n",
              "</div>"
            ],
            "text/plain": [
              "         earn     height   sex  ed  age      race\n",
              "0     50000.0  74.424439  male  16   45     white\n",
              "7     32000.0  72.698544  male  17   46     white\n",
              "8      2000.0  72.039467  male  15   21  hispanic\n",
              "9     27000.0  72.234933  male  12   26     white\n",
              "10     6530.0  69.512146  male  16   65     white\n",
              "...       ...        ...   ...  ..  ...       ...\n",
              "1184  55000.0  68.995890  male  18   71     white\n",
              "1185  58000.0  70.343370  male  18   53     white\n",
              "1187  19000.0  72.165733  male  12   29     white\n",
              "1190  60000.0  71.925836  male  12   50     white\n",
              "1191   6000.0  68.368486  male  12   27     white\n",
              "\n",
              "[505 rows x 6 columns]"
            ]
          },
          "metadata": {
            "tags": []
          },
          "execution_count": 19
        }
      ]
    },
    {
      "cell_type": "code",
      "metadata": {
        "colab": {
          "base_uri": "https://localhost:8080/"
        },
        "id": "tuQAxkxMQGH0",
        "outputId": "a207640d-325e-4fa1-f2ea-c89b3c1ba8cd"
      },
      "source": [
        "print(f\"There is a total of {salaries.shape[0]} employees\")\n",
        "print(f\"There are {salaries_male.shape[0]} male employees and {salaries_female.shape[0]} female employees\")\n",
        "print(f\"So, males represent {salaries_male.shape[0]*100 / salaries.shape[0]:.2f}% and females represent {salaries_female.shape[0]*100 / salaries.shape[0]:.2f}% of the total population\")"
      ],
      "execution_count": null,
      "outputs": [
        {
          "output_type": "stream",
          "text": [
            "There is a total of 1192 employees\n",
            "There are 505 male employees and 687 female employees\n",
            "So, males represent 42.37% and females represent 57.63% of the total population\n"
          ],
          "name": "stdout"
        }
      ]
    },
    {
      "cell_type": "code",
      "metadata": {
        "colab": {
          "base_uri": "https://localhost:8080/",
          "height": 297
        },
        "id": "4S6idO_6Urbg",
        "outputId": "7447ef84-0252-42e0-a1b8-e22efac201a0"
      },
      "source": [
        "salaries_male[['earn']].describe() #50% percentile is the same as the median"
      ],
      "execution_count": null,
      "outputs": [
        {
          "output_type": "execute_result",
          "data": {
            "text/html": [
              "<div>\n",
              "<style scoped>\n",
              "    .dataframe tbody tr th:only-of-type {\n",
              "        vertical-align: middle;\n",
              "    }\n",
              "\n",
              "    .dataframe tbody tr th {\n",
              "        vertical-align: top;\n",
              "    }\n",
              "\n",
              "    .dataframe thead th {\n",
              "        text-align: right;\n",
              "    }\n",
              "</style>\n",
              "<table border=\"1\" class=\"dataframe\">\n",
              "  <thead>\n",
              "    <tr style=\"text-align: right;\">\n",
              "      <th></th>\n",
              "      <th>earn</th>\n",
              "    </tr>\n",
              "  </thead>\n",
              "  <tbody>\n",
              "    <tr>\n",
              "      <th>count</th>\n",
              "      <td>505.000000</td>\n",
              "    </tr>\n",
              "    <tr>\n",
              "      <th>mean</th>\n",
              "      <td>29786.130693</td>\n",
              "    </tr>\n",
              "    <tr>\n",
              "      <th>std</th>\n",
              "      <td>23297.816034</td>\n",
              "    </tr>\n",
              "    <tr>\n",
              "      <th>min</th>\n",
              "      <td>1000.000000</td>\n",
              "    </tr>\n",
              "    <tr>\n",
              "      <th>25%</th>\n",
              "      <td>16000.000000</td>\n",
              "    </tr>\n",
              "    <tr>\n",
              "      <th>50%</th>\n",
              "      <td>25000.000000</td>\n",
              "    </tr>\n",
              "    <tr>\n",
              "      <th>75%</th>\n",
              "      <td>36000.000000</td>\n",
              "    </tr>\n",
              "    <tr>\n",
              "      <th>max</th>\n",
              "      <td>200000.000000</td>\n",
              "    </tr>\n",
              "  </tbody>\n",
              "</table>\n",
              "</div>"
            ],
            "text/plain": [
              "                earn\n",
              "count     505.000000\n",
              "mean    29786.130693\n",
              "std     23297.816034\n",
              "min      1000.000000\n",
              "25%     16000.000000\n",
              "50%     25000.000000\n",
              "75%     36000.000000\n",
              "max    200000.000000"
            ]
          },
          "metadata": {
            "tags": []
          },
          "execution_count": 21
        }
      ]
    },
    {
      "cell_type": "code",
      "metadata": {
        "colab": {
          "base_uri": "https://localhost:8080/",
          "height": 297
        },
        "id": "U_aaHCkDUvB8",
        "outputId": "7dd3273a-1dfc-409a-8a55-e3941c929c3f"
      },
      "source": [
        "salaries_female[['earn']].describe()"
      ],
      "execution_count": null,
      "outputs": [
        {
          "output_type": "execute_result",
          "data": {
            "text/html": [
              "<div>\n",
              "<style scoped>\n",
              "    .dataframe tbody tr th:only-of-type {\n",
              "        vertical-align: middle;\n",
              "    }\n",
              "\n",
              "    .dataframe tbody tr th {\n",
              "        vertical-align: top;\n",
              "    }\n",
              "\n",
              "    .dataframe thead th {\n",
              "        text-align: right;\n",
              "    }\n",
              "</style>\n",
              "<table border=\"1\" class=\"dataframe\">\n",
              "  <thead>\n",
              "    <tr style=\"text-align: right;\">\n",
              "      <th></th>\n",
              "      <th>earn</th>\n",
              "    </tr>\n",
              "  </thead>\n",
              "  <tbody>\n",
              "    <tr>\n",
              "      <th>count</th>\n",
              "      <td>687.000000</td>\n",
              "    </tr>\n",
              "    <tr>\n",
              "      <th>mean</th>\n",
              "      <td>18280.195051</td>\n",
              "    </tr>\n",
              "    <tr>\n",
              "      <th>std</th>\n",
              "      <td>14259.932378</td>\n",
              "    </tr>\n",
              "    <tr>\n",
              "      <th>min</th>\n",
              "      <td>200.000000</td>\n",
              "    </tr>\n",
              "    <tr>\n",
              "      <th>25%</th>\n",
              "      <td>9000.000000</td>\n",
              "    </tr>\n",
              "    <tr>\n",
              "      <th>50%</th>\n",
              "      <td>15000.000000</td>\n",
              "    </tr>\n",
              "    <tr>\n",
              "      <th>75%</th>\n",
              "      <td>25000.000000</td>\n",
              "    </tr>\n",
              "    <tr>\n",
              "      <th>max</th>\n",
              "      <td>123000.000000</td>\n",
              "    </tr>\n",
              "  </tbody>\n",
              "</table>\n",
              "</div>"
            ],
            "text/plain": [
              "                earn\n",
              "count     687.000000\n",
              "mean    18280.195051\n",
              "std     14259.932378\n",
              "min       200.000000\n",
              "25%      9000.000000\n",
              "50%     15000.000000\n",
              "75%     25000.000000\n",
              "max    123000.000000"
            ]
          },
          "metadata": {
            "tags": []
          },
          "execution_count": 22
        }
      ]
    },
    {
      "cell_type": "code",
      "metadata": {
        "id": "6UufmHyEVje0"
      },
      "source": [
        "salary_female_np = salaries_female['earn'].to_numpy()\n",
        "salary_male_np = salaries_male['earn'].to_numpy()"
      ],
      "execution_count": null,
      "outputs": []
    },
    {
      "cell_type": "code",
      "metadata": {
        "colab": {
          "base_uri": "https://localhost:8080/",
          "height": 301
        },
        "id": "-RbvXHtaWw2G",
        "outputId": "ef6b5907-5fa4-4930-d549-6f94611507d6"
      },
      "source": [
        "plt.hist(salary_female_np,color='pink')\n",
        "plt.title('Female Salary Distribution')\n",
        "plt.xlabel('Salary')\n",
        "plt.ylabel('Number of Female Employees');"
      ],
      "execution_count": null,
      "outputs": [
        {
          "output_type": "display_data",
          "data": {
            "image/png": "[encoded data removed]",
            "text/plain": [
              "<Figure size 432x288 with 1 Axes>"
            ]
          },
          "metadata": {
            "tags": [],
            "needs_background": "light"
          }
        }
      ]
    },
    {
      "cell_type": "code",
      "metadata": {
        "colab": {
          "base_uri": "https://localhost:8080/",
          "height": 301
        },
        "id": "sCTT_L7SXBKR",
        "outputId": "da6b8336-61dd-4d8c-9f79-01912209a296"
      },
      "source": [
        "plt.hist(salary_male_np,color='b')\n",
        "plt.title('Male Salary Distribution')\n",
        "plt.xlabel('Salary')\n",
        "plt.ylabel('Number of Male Employees');"
      ],
      "execution_count": null,
      "outputs": [
        {
          "output_type": "display_data",
          "data": {
            "image/png": "[encoded data removed]",
            "text/plain": [
              "<Figure size 432x288 with 1 Axes>"
            ]
          },
          "metadata": {
            "tags": [],
            "needs_background": "light"
          }
        }
      ]
    },
    {
      "cell_type": "code",
      "metadata": {
        "colab": {
          "base_uri": "https://localhost:8080/",
          "height": 355
        },
        "id": "bpDYh2qmXZOy",
        "outputId": "a724b051-ee4c-4993-be43-cbfec4538ece"
      },
      "source": [
        "plt.hist((salary_female_np,salary_male_np),color=['pink','b'])\n",
        "plt.title('Female and Male Salary Distribution')\n",
        "plt.xlabel('Salary')\n",
        "plt.ylabel('Number of Employees')\n",
        "plt.show()"
      ],
      "execution_count": null,
      "outputs": [
        {
          "output_type": "stream",
          "text": [
            "/usr/local/lib/python3.7/dist-packages/numpy/core/_asarray.py:83: VisibleDeprecationWarning: Creating an ndarray from ragged nested sequences (which is a list-or-tuple of lists-or-tuples-or ndarrays with different lengths or shapes) is deprecated. If you meant to do this, you must specify 'dtype=object' when creating the ndarray\n",
            "  return array(a, dtype, copy=False, order=order)\n"
          ],
          "name": "stderr"
        },
        {
          "output_type": "display_data",
          "data": {
            "image/png": "[encoded data removed]",
            "text/plain": [
              "<Figure size 432x288 with 1 Axes>"
            ]
          },
          "metadata": {
            "tags": [],
            "needs_background": "light"
          }
        }
      ]
    },
    {
      "cell_type": "code",
      "metadata": {
        "colab": {
          "base_uri": "https://localhost:8080/",
          "height": 301
        },
        "id": "lMOr7YqfbNut",
        "outputId": "244f29cd-3b27-4b78-d94b-060bfa81a502"
      },
      "source": [
        "sex = np.array(salaries['sex'])\n",
        "sex_ticks = [0,1]\n",
        "plt.xticks(sex_ticks,sex)\n",
        "plt.title('Salary vs. Education Level')\n",
        "plt.ylabel('Salary')\n",
        "plt.xlabel('Sex');\n",
        "plt.scatter(sex,salary, alpha=0.5)\n",
        "plt.show()"
      ],
      "execution_count": null,
      "outputs": [
        {
          "output_type": "display_data",
          "data": {
            "image/png": "[encoded data removed]",
            "text/plain": [
              "<Figure size 432x288 with 1 Axes>"
            ]
          },
          "metadata": {
            "tags": [],
            "needs_background": "light"
          }
        }
      ]
    },
    {
      "cell_type": "markdown",
      "metadata": {
        "id": "2MeVVzBfLeV5"
      },
      "source": [
        "*Enter your text here*"
      ]
    },
    {
      "cell_type": "markdown",
      "metadata": {
        "id": "34cWPF_jOKUQ"
      },
      "source": [
        "--------------------\n",
        "### Signs of inequality\n",
        "\n",
        "As you can possibly tell by now, this dataset may help us test hypotheses and answer questions related to possible sources of inequality associated with the salary distribution: gender, age, race, etc.. \n",
        "\n",
        "Let's assume, for the sake of argument, that the number of years of education should correlate well with a person's salary (this is clearly a weak argument and the plot and Pearson correlation coefficient computation above suggests that this is *not* the case) and that other suspiciously high (positive or negative) correlations could be interpreted as a sign of inequality.\n",
        "\n",
        "See Notebooks 1 and 2 from [my ICMLA 2019 tutorial with Christian Garbin](https://github.com/fau-masters-collected-works-cgarbin/ieee-icmla-2019-data-science-tutorial) for additional insights."
      ]
    },
    {
      "cell_type": "markdown",
      "metadata": {
        "id": "R1UaYIHoOKUR"
      },
      "source": [
        "---------------------\n",
        "### Hypotheses H1, H2, H3\n",
        "At this point, we will formulate 3 different hypotheses that might suggest that the salary distribution is biased by factors such as age, gender, or race:\n",
        "\n",
        "- H1: Older employees are paid less (i.e., ageism)\n",
        "- H2: Female employees are paid less (i.e., gender bias)\n",
        "- H3: Non-whites are paid less (i.e, race bias)."
      ]
    },
    {
      "cell_type": "markdown",
      "metadata": {
        "id": "n8odBiXoOKUR"
      },
      "source": [
        "### 1.2 Your turn! (24-30 points)\n",
        "\n",
        "Write Python code to test hypotheses H1, H2, and H3 (and some text to explain whether they were confirmed or not). \n",
        "\n",
        "Feel free to (also) use plots, but make your code independent of a human being interpreting those plots. \n",
        "\n",
        "**Weight**: 24 pts, i.e., 8 pts per hypothesis. \n",
        "Up to 6 bonus points for insightful additional hypotheses, code, and/or comments.  "
      ]
    },
    {
      "cell_type": "markdown",
      "metadata": {
        "id": "rkv4wSP1KeqR"
      },
      "source": [
        "H1:"
      ]
    },
    {
      "cell_type": "code",
      "metadata": {
        "id": "bh7h9mfsLBMw"
      },
      "source": [
        "# Enter your code here\n",
        "age = salaries['age']\n",
        "salary = salaries['earn']\n",
        "age.name = 'Age in Years'\n",
        "salary.name = 'Salary Earned Annually'\n",
        "age_np = age.to_numpy()\n",
        "salary_np = salary.to_numpy()"
      ],
      "execution_count": null,
      "outputs": []
    },
    {
      "cell_type": "code",
      "metadata": {
        "colab": {
          "base_uri": "https://localhost:8080/",
          "height": 302
        },
        "id": "aFjB9le8h5X-",
        "outputId": "7bb04077-9e3c-4fb8-b5a3-2505fbc782a1"
      },
      "source": [
        "sns.scatterplot(x=age,y=salary,alpha=0.6)"
      ],
      "execution_count": null,
      "outputs": [
        {
          "output_type": "execute_result",
          "data": {
            "text/plain": [
              "<matplotlib.axes._subplots.AxesSubplot at 0x7fa742637350>"
            ]
          },
          "metadata": {
            "tags": []
          },
          "execution_count": 29
        },
        {
          "output_type": "display_data",
          "data": {
            "image/png": "[encoded data removed]",
            "text/plain": [
              "<Figure size 432x288 with 1 Axes>"
            ]
          },
          "metadata": {
            "tags": [],
            "needs_background": "light"
          }
        }
      ]
    },
    {
      "cell_type": "code",
      "metadata": {
        "colab": {
          "base_uri": "https://localhost:8080/"
        },
        "id": "_6hcX5hJjUar",
        "outputId": "3c687738-3204-4d55-f48a-6d68bb37d9b5"
      },
      "source": [
        "# Compute Pearson coefficient\n",
        "corr_age, _ = pearsonr(salary_np,age_np)\n",
        "print('Correlation coefficient: ',corr_age)"
      ],
      "execution_count": null,
      "outputs": [
        {
          "output_type": "stream",
          "text": [
            "Correlation coefficient:  0.08100297364190615\n"
          ],
          "name": "stdout"
        }
      ]
    },
    {
      "cell_type": "markdown",
      "metadata": {
        "id": "QZ9B0Jodj0_5"
      },
      "source": [
        "According to the scatterplot and correlation coefficient, there is no evident correlation between age and annual salary."
      ]
    },
    {
      "cell_type": "markdown",
      "metadata": {
        "id": "ylsSA3g6MGB3"
      },
      "source": [
        "H2:"
      ]
    },
    {
      "cell_type": "code",
      "metadata": {
        "id": "6RCqC-wEMMpw",
        "colab": {
          "base_uri": "https://localhost:8080/",
          "height": 541
        },
        "outputId": "12ed68a1-3aa9-43bf-8d9b-0ec929db5211"
      },
      "source": [
        "# Enter your code here\n",
        "salaries_sex_enc = salaries[['earn','sex']]\n",
        "#salaries_sex_enc['sex'] = salaries['sex'].apply(lambda x: 0 if x == 'female' else 1)\n",
        "salaries_sex_enc['sex'] = salaries_sex_enc['sex'].map(lambda x: 0 if x == 'female' else 1)\n",
        "salaries_sex_enc"
      ],
      "execution_count": null,
      "outputs": [
        {
          "output_type": "stream",
          "text": [
            "/usr/local/lib/python3.7/dist-packages/ipykernel_launcher.py:4: SettingWithCopyWarning: \n",
            "A value is trying to be set on a copy of a slice from a DataFrame.\n",
            "Try using .loc[row_indexer,col_indexer] = value instead\n",
            "\n",
            "See the caveats in the documentation: https://pandas.pydata.org/pandas-docs/stable/user_guide/indexing.html#returning-a-view-versus-a-copy\n",
            "  after removing the cwd from sys.path.\n"
          ],
          "name": "stderr"
        },
        {
          "output_type": "execute_result",
          "data": {
            "text/html": [
              "<div>\n",
              "<style scoped>\n",
              "    .dataframe tbody tr th:only-of-type {\n",
              "        vertical-align: middle;\n",
              "    }\n",
              "\n",
              "    .dataframe tbody tr th {\n",
              "        vertical-align: top;\n",
              "    }\n",
              "\n",
              "    .dataframe thead th {\n",
              "        text-align: right;\n",
              "    }\n",
              "</style>\n",
              "<table border=\"1\" class=\"dataframe\">\n",
              "  <thead>\n",
              "    <tr style=\"text-align: right;\">\n",
              "      <th></th>\n",
              "      <th>earn</th>\n",
              "      <th>sex</th>\n",
              "    </tr>\n",
              "  </thead>\n",
              "  <tbody>\n",
              "    <tr>\n",
              "      <th>0</th>\n",
              "      <td>50000.0</td>\n",
              "      <td>1</td>\n",
              "    </tr>\n",
              "    <tr>\n",
              "      <th>1</th>\n",
              "      <td>60000.0</td>\n",
              "      <td>0</td>\n",
              "    </tr>\n",
              "    <tr>\n",
              "      <th>2</th>\n",
              "      <td>30000.0</td>\n",
              "      <td>0</td>\n",
              "    </tr>\n",
              "    <tr>\n",
              "      <th>3</th>\n",
              "      <td>50000.0</td>\n",
              "      <td>0</td>\n",
              "    </tr>\n",
              "    <tr>\n",
              "      <th>4</th>\n",
              "      <td>51000.0</td>\n",
              "      <td>0</td>\n",
              "    </tr>\n",
              "    <tr>\n",
              "      <th>...</th>\n",
              "      <td>...</td>\n",
              "      <td>...</td>\n",
              "    </tr>\n",
              "    <tr>\n",
              "      <th>1187</th>\n",
              "      <td>19000.0</td>\n",
              "      <td>1</td>\n",
              "    </tr>\n",
              "    <tr>\n",
              "      <th>1188</th>\n",
              "      <td>15000.0</td>\n",
              "      <td>0</td>\n",
              "    </tr>\n",
              "    <tr>\n",
              "      <th>1189</th>\n",
              "      <td>8000.0</td>\n",
              "      <td>0</td>\n",
              "    </tr>\n",
              "    <tr>\n",
              "      <th>1190</th>\n",
              "      <td>60000.0</td>\n",
              "      <td>1</td>\n",
              "    </tr>\n",
              "    <tr>\n",
              "      <th>1191</th>\n",
              "      <td>6000.0</td>\n",
              "      <td>1</td>\n",
              "    </tr>\n",
              "  </tbody>\n",
              "</table>\n",
              "<p>1192 rows × 2 columns</p>\n",
              "</div>"
            ],
            "text/plain": [
              "         earn  sex\n",
              "0     50000.0    1\n",
              "1     60000.0    0\n",
              "2     30000.0    0\n",
              "3     50000.0    0\n",
              "4     51000.0    0\n",
              "...       ...  ...\n",
              "1187  19000.0    1\n",
              "1188  15000.0    0\n",
              "1189   8000.0    0\n",
              "1190  60000.0    1\n",
              "1191   6000.0    1\n",
              "\n",
              "[1192 rows x 2 columns]"
            ]
          },
          "metadata": {
            "tags": []
          },
          "execution_count": 31
        }
      ]
    },
    {
      "cell_type": "code",
      "metadata": {
        "colab": {
          "base_uri": "https://localhost:8080/",
          "height": 301
        },
        "id": "vihrfb3CM0x3",
        "outputId": "09bd7880-aa1d-4a0b-d2b3-2035f2064551"
      },
      "source": [
        "sex = np.array(salaries['sex'])\n",
        "sex_ticks = [0,1]\n",
        "plt.xticks(sex_ticks,sex)\n",
        "plt.title('Salary vs. Education Level')\n",
        "plt.ylabel('Salary')\n",
        "plt.xlabel('Sex');\n",
        "plt.scatter(sex,salary, alpha=0.5)\n",
        "plt.show()"
      ],
      "execution_count": null,
      "outputs": [
        {
          "output_type": "display_data",
          "data": {
            "image/png": "[encoded data removed]",
            "text/plain": [
              "<Figure size 432x288 with 1 Axes>"
            ]
          },
          "metadata": {
            "tags": [],
            "needs_background": "light"
          }
        }
      ]
    },
    {
      "cell_type": "code",
      "metadata": {
        "colab": {
          "base_uri": "https://localhost:8080/"
        },
        "id": "uCJzjWsM8B_k",
        "outputId": "d979a3ab-db6a-4277-bf88-b31e559cf624"
      },
      "source": [
        "sex = salaries_sex_enc['sex']\n",
        "sex_np = salaries_sex_enc['sex'].to_numpy()\n",
        "\n",
        "corr_sex, _ = pearsonr(salary_np,sex_np)\n",
        "print('Correlation coefficient: ',corr_sex)"
      ],
      "execution_count": null,
      "outputs": [
        {
          "output_type": "stream",
          "text": [
            "Correlation coefficient:  0.2921021854657079\n"
          ],
          "name": "stdout"
        }
      ]
    },
    {
      "cell_type": "markdown",
      "metadata": {
        "id": "ei5LqlkHOgoz"
      },
      "source": [
        "There seems to be a moderate correlation between salary and sex of employees. As seen from the graph, the highest paid salaries belong to male employees. However, besides those outliers, most men also fall in the salary range of women."
      ]
    },
    {
      "cell_type": "markdown",
      "metadata": {
        "id": "JE_UdkqxMPCJ"
      },
      "source": [
        "H3:"
      ]
    },
    {
      "cell_type": "code",
      "metadata": {
        "id": "runffTqPMQLM",
        "colab": {
          "base_uri": "https://localhost:8080/"
        },
        "outputId": "ffe150db-1675-4642-9c6e-c7645dd6b758"
      },
      "source": [
        "salaries['race'].unique()"
      ],
      "execution_count": null,
      "outputs": [
        {
          "output_type": "execute_result",
          "data": {
            "text/plain": [
              "array(['white', 'other', 'hispanic', 'black'], dtype=object)"
            ]
          },
          "metadata": {
            "tags": []
          },
          "execution_count": 34
        }
      ]
    },
    {
      "cell_type": "code",
      "metadata": {
        "colab": {
          "base_uri": "https://localhost:8080/"
        },
        "id": "PvDBk12Uf6fa",
        "outputId": "411eb761-ffd5-428c-e579-201653108bc5"
      },
      "source": [
        "race = salaries['race'].map({'white':0,'black':1,'hispanic':2,'other':3})\n",
        "race"
      ],
      "execution_count": null,
      "outputs": [
        {
          "output_type": "execute_result",
          "data": {
            "text/plain": [
              "0       0\n",
              "1       0\n",
              "2       0\n",
              "3       3\n",
              "4       0\n",
              "       ..\n",
              "1187    0\n",
              "1188    0\n",
              "1189    0\n",
              "1190    0\n",
              "1191    0\n",
              "Name: race, Length: 1192, dtype: int64"
            ]
          },
          "metadata": {
            "tags": []
          },
          "execution_count": 35
        }
      ]
    },
    {
      "cell_type": "code",
      "metadata": {
        "colab": {
          "base_uri": "https://localhost:8080/",
          "height": 301
        },
        "id": "ZjlnUOd8iBUR",
        "outputId": "9f8451a8-266f-487f-83b3-b2378fa6f1d4"
      },
      "source": [
        "race_np = np.array(race)\n",
        "race_ticks = [0,1,2,3]\n",
        "plt.xticks(race_ticks,['white','black','hispanic','other'])\n",
        "plt.title('Salary vs. Race')\n",
        "plt.ylabel('Salary')\n",
        "plt.xlabel('Race');\n",
        "plt.scatter(race_np,salary, alpha=0.5)\n",
        "plt.show()"
      ],
      "execution_count": null,
      "outputs": [
        {
          "output_type": "display_data",
          "data": {
            "image/png": "[encoded data removed]",
            "text/plain": [
              "<Figure size 432x288 with 1 Axes>"
            ]
          },
          "metadata": {
            "tags": [],
            "needs_background": "light"
          }
        }
      ]
    },
    {
      "cell_type": "code",
      "metadata": {
        "colab": {
          "base_uri": "https://localhost:8080/"
        },
        "id": "A3E1pgu6jQ6t",
        "outputId": "bb5e36d8-27ec-425f-c476-f47aa7bbdba3"
      },
      "source": [
        "corr_race, _ = pearsonr(salary,race_np)\n",
        "print('Correlation coefficient: ',corr_race)"
      ],
      "execution_count": null,
      "outputs": [
        {
          "output_type": "stream",
          "text": [
            "Correlation coefficient:  -0.06850868365087137\n"
          ],
          "name": "stdout"
        }
      ]
    },
    {
      "cell_type": "markdown",
      "metadata": {
        "id": "9Obov7yPAR0t"
      },
      "source": [
        "-------------------\n",
        "## Part 2: Classification"
      ]
    },
    {
      "cell_type": "markdown",
      "metadata": {
        "id": "o5OUL7StAR0t"
      },
      "source": [
        "### 2a. Iris flower classification\n",
        "\n",
        "The Python code below will load a dataset containing information about three types of Iris flowers that had the size of its petals and sepals carefully measured.\n",
        "\n",
        "The Fisher’s Iris dataset contains 150 observations with 4 features each: \n",
        "- sepal length in cm; \n",
        "- sepal width in cm; \n",
        "- petal length in cm; and \n",
        "- petal width in cm. \n",
        "\n",
        "The class for each instance is stored in a separate column called “species”. In this case, the first 50 instances belong to class Setosa, the following 50 belong to class Versicolor and the last 50 belong to class Virginica.\n",
        "\n",
        "See:\n",
        "https://archive.ics.uci.edu/ml/datasets/Iris for additional information."
      ]
    },
    {
      "cell_type": "code",
      "metadata": {
        "colab": {
          "base_uri": "https://localhost:8080/",
          "height": 204
        },
        "id": "6u4etvOgAR0t",
        "outputId": "bfead3d2-bf8e-46a8-ebbb-f27abec6c192"
      },
      "source": [
        "import numpy as np\n",
        "import matplotlib.pyplot as plt\n",
        "import seaborn as sns\n",
        "iris = sns.load_dataset(\"iris\")\n",
        "iris.head()"
      ],
      "execution_count": null,
      "outputs": [
        {
          "output_type": "execute_result",
          "data": {
            "text/html": [
              "<div>\n",
              "<style scoped>\n",
              "    .dataframe tbody tr th:only-of-type {\n",
              "        vertical-align: middle;\n",
              "    }\n",
              "\n",
              "    .dataframe tbody tr th {\n",
              "        vertical-align: top;\n",
              "    }\n",
              "\n",
              "    .dataframe thead th {\n",
              "        text-align: right;\n",
              "    }\n",
              "</style>\n",
              "<table border=\"1\" class=\"dataframe\">\n",
              "  <thead>\n",
              "    <tr style=\"text-align: right;\">\n",
              "      <th></th>\n",
              "      <th>sepal_length</th>\n",
              "      <th>sepal_width</th>\n",
              "      <th>petal_length</th>\n",
              "      <th>petal_width</th>\n",
              "      <th>species</th>\n",
              "    </tr>\n",
              "  </thead>\n",
              "  <tbody>\n",
              "    <tr>\n",
              "      <th>0</th>\n",
              "      <td>5.1</td>\n",
              "      <td>3.5</td>\n",
              "      <td>1.4</td>\n",
              "      <td>0.2</td>\n",
              "      <td>setosa</td>\n",
              "    </tr>\n",
              "    <tr>\n",
              "      <th>1</th>\n",
              "      <td>4.9</td>\n",
              "      <td>3.0</td>\n",
              "      <td>1.4</td>\n",
              "      <td>0.2</td>\n",
              "      <td>setosa</td>\n",
              "    </tr>\n",
              "    <tr>\n",
              "      <th>2</th>\n",
              "      <td>4.7</td>\n",
              "      <td>3.2</td>\n",
              "      <td>1.3</td>\n",
              "      <td>0.2</td>\n",
              "      <td>setosa</td>\n",
              "    </tr>\n",
              "    <tr>\n",
              "      <th>3</th>\n",
              "      <td>4.6</td>\n",
              "      <td>3.1</td>\n",
              "      <td>1.5</td>\n",
              "      <td>0.2</td>\n",
              "      <td>setosa</td>\n",
              "    </tr>\n",
              "    <tr>\n",
              "      <th>4</th>\n",
              "      <td>5.0</td>\n",
              "      <td>3.6</td>\n",
              "      <td>1.4</td>\n",
              "      <td>0.2</td>\n",
              "      <td>setosa</td>\n",
              "    </tr>\n",
              "  </tbody>\n",
              "</table>\n",
              "</div>"
            ],
            "text/plain": [
              "   sepal_length  sepal_width  petal_length  petal_width species\n",
              "0           5.1          3.5           1.4          0.2  setosa\n",
              "1           4.9          3.0           1.4          0.2  setosa\n",
              "2           4.7          3.2           1.3          0.2  setosa\n",
              "3           4.6          3.1           1.5          0.2  setosa\n",
              "4           5.0          3.6           1.4          0.2  setosa"
            ]
          },
          "metadata": {
            "tags": []
          },
          "execution_count": 38
        }
      ]
    },
    {
      "cell_type": "markdown",
      "metadata": {
        "id": "tdOo8yXPs2BF"
      },
      "source": [
        "#### Histograms, pair plots and summary statistics \n",
        "\n",
        "The code below:\n",
        "\n",
        "1. Computes and displays relevant summary statistics for the whole dataset.\n",
        "2. Displays the pair plots for all (4) attributes for all (3) categories / species / classes in the Iris dataset. "
      ]
    },
    {
      "cell_type": "code",
      "metadata": {
        "colab": {
          "base_uri": "https://localhost:8080/",
          "height": 1000
        },
        "id": "6wIiUcJFs2BO",
        "outputId": "eb8a5b30-837b-4b1d-8669-046274c0807e"
      },
      "source": [
        "# Display pair plot\n",
        "sns.pairplot(iris, hue='species', height=2.5);\n",
        "\n",
        "# Display summary statistics for the whole dataset\n",
        "iris.describe()"
      ],
      "execution_count": null,
      "outputs": [
        {
          "output_type": "execute_result",
          "data": {
            "text/html": [
              "<div>\n",
              "<style scoped>\n",
              "    .dataframe tbody tr th:only-of-type {\n",
              "        vertical-align: middle;\n",
              "    }\n",
              "\n",
              "    .dataframe tbody tr th {\n",
              "        vertical-align: top;\n",
              "    }\n",
              "\n",
              "    .dataframe thead th {\n",
              "        text-align: right;\n",
              "    }\n",
              "</style>\n",
              "<table border=\"1\" class=\"dataframe\">\n",
              "  <thead>\n",
              "    <tr style=\"text-align: right;\">\n",
              "      <th></th>\n",
              "      <th>sepal_length</th>\n",
              "      <th>sepal_width</th>\n",
              "      <th>petal_length</th>\n",
              "      <th>petal_width</th>\n",
              "    </tr>\n",
              "  </thead>\n",
              "  <tbody>\n",
              "    <tr>\n",
              "      <th>count</th>\n",
              "      <td>150.000000</td>\n",
              "      <td>150.000000</td>\n",
              "      <td>150.000000</td>\n",
              "      <td>150.000000</td>\n",
              "    </tr>\n",
              "    <tr>\n",
              "      <th>mean</th>\n",
              "      <td>5.843333</td>\n",
              "      <td>3.057333</td>\n",
              "      <td>3.758000</td>\n",
              "      <td>1.199333</td>\n",
              "    </tr>\n",
              "    <tr>\n",
              "      <th>std</th>\n",
              "      <td>0.828066</td>\n",
              "      <td>0.435866</td>\n",
              "      <td>1.765298</td>\n",
              "      <td>0.762238</td>\n",
              "    </tr>\n",
              "    <tr>\n",
              "      <th>min</th>\n",
              "      <td>4.300000</td>\n",
              "      <td>2.000000</td>\n",
              "      <td>1.000000</td>\n",
              "      <td>0.100000</td>\n",
              "    </tr>\n",
              "    <tr>\n",
              "      <th>25%</th>\n",
              "      <td>5.100000</td>\n",
              "      <td>2.800000</td>\n",
              "      <td>1.600000</td>\n",
              "      <td>0.300000</td>\n",
              "    </tr>\n",
              "    <tr>\n",
              "      <th>50%</th>\n",
              "      <td>5.800000</td>\n",
              "      <td>3.000000</td>\n",
              "      <td>4.350000</td>\n",
              "      <td>1.300000</td>\n",
              "    </tr>\n",
              "    <tr>\n",
              "      <th>75%</th>\n",
              "      <td>6.400000</td>\n",
              "      <td>3.300000</td>\n",
              "      <td>5.100000</td>\n",
              "      <td>1.800000</td>\n",
              "    </tr>\n",
              "    <tr>\n",
              "      <th>max</th>\n",
              "      <td>7.900000</td>\n",
              "      <td>4.400000</td>\n",
              "      <td>6.900000</td>\n",
              "      <td>2.500000</td>\n",
              "    </tr>\n",
              "  </tbody>\n",
              "</table>\n",
              "</div>"
            ],
            "text/plain": [
              "       sepal_length  sepal_width  petal_length  petal_width\n",
              "count    150.000000   150.000000    150.000000   150.000000\n",
              "mean       5.843333     3.057333      3.758000     1.199333\n",
              "std        0.828066     0.435866      1.765298     0.762238\n",
              "min        4.300000     2.000000      1.000000     0.100000\n",
              "25%        5.100000     2.800000      1.600000     0.300000\n",
              "50%        5.800000     3.000000      4.350000     1.300000\n",
              "75%        6.400000     3.300000      5.100000     1.800000\n",
              "max        7.900000     4.400000      6.900000     2.500000"
            ]
          },
          "metadata": {
            "tags": []
          },
          "execution_count": 39
        },
        {
          "output_type": "display_data",
          "data": {
            "image/png": "[encoded data removed]",
            "text/plain": [
              "<Figure size 813.85x720 with 20 Axes>"
            ]
          },
          "metadata": {
            "tags": [],
            "needs_background": "light"
          }
        }
      ]
    },
    {
      "cell_type": "markdown",
      "metadata": {
        "id": "CwuqliAIpAN6"
      },
      "source": [
        "#### 2.1 Your turn! (25 points)\n",
        "Write code to: \n",
        "\n",
        "1. Build a decision tree classifier using scikit-learn's `DecisionTreeClassifier` (using the default options). Check documentation at https://scikit-learn.org/stable/modules/generated/sklearn.tree.DecisionTreeClassifier.html \n",
        "2. Plot the resulting decision tree. \n",
        "(Note: if `graphviz` gives you headaches, a text-based 'plot'-- using `export_text` -- should be OK.)\n",
        "3. Perform k-fold cross-validation using k=3 and display the results. \n"
      ]
    },
    {
      "cell_type": "code",
      "metadata": {
        "colab": {
          "base_uri": "https://localhost:8080/"
        },
        "id": "CFO8ptdIlTe4",
        "outputId": "a95246e4-fec2-46e2-e0b2-56c918bdc005"
      },
      "source": [
        "iris['species'].unique()"
      ],
      "execution_count": null,
      "outputs": [
        {
          "output_type": "execute_result",
          "data": {
            "text/plain": [
              "array(['setosa', 'versicolor', 'virginica'], dtype=object)"
            ]
          },
          "metadata": {
            "tags": []
          },
          "execution_count": 40
        }
      ]
    },
    {
      "cell_type": "code",
      "metadata": {
        "colab": {
          "base_uri": "https://localhost:8080/",
          "height": 204
        },
        "id": "tUS78b7ym3_z",
        "outputId": "6aaa3478-405f-4533-a92c-083d4a5ae8ad"
      },
      "source": [
        "iris.tail()"
      ],
      "execution_count": null,
      "outputs": [
        {
          "output_type": "execute_result",
          "data": {
            "text/html": [
              "<div>\n",
              "<style scoped>\n",
              "    .dataframe tbody tr th:only-of-type {\n",
              "        vertical-align: middle;\n",
              "    }\n",
              "\n",
              "    .dataframe tbody tr th {\n",
              "        vertical-align: top;\n",
              "    }\n",
              "\n",
              "    .dataframe thead th {\n",
              "        text-align: right;\n",
              "    }\n",
              "</style>\n",
              "<table border=\"1\" class=\"dataframe\">\n",
              "  <thead>\n",
              "    <tr style=\"text-align: right;\">\n",
              "      <th></th>\n",
              "      <th>sepal_length</th>\n",
              "      <th>sepal_width</th>\n",
              "      <th>petal_length</th>\n",
              "      <th>petal_width</th>\n",
              "      <th>species</th>\n",
              "    </tr>\n",
              "  </thead>\n",
              "  <tbody>\n",
              "    <tr>\n",
              "      <th>145</th>\n",
              "      <td>6.7</td>\n",
              "      <td>3.0</td>\n",
              "      <td>5.2</td>\n",
              "      <td>2.3</td>\n",
              "      <td>virginica</td>\n",
              "    </tr>\n",
              "    <tr>\n",
              "      <th>146</th>\n",
              "      <td>6.3</td>\n",
              "      <td>2.5</td>\n",
              "      <td>5.0</td>\n",
              "      <td>1.9</td>\n",
              "      <td>virginica</td>\n",
              "    </tr>\n",
              "    <tr>\n",
              "      <th>147</th>\n",
              "      <td>6.5</td>\n",
              "      <td>3.0</td>\n",
              "      <td>5.2</td>\n",
              "      <td>2.0</td>\n",
              "      <td>virginica</td>\n",
              "    </tr>\n",
              "    <tr>\n",
              "      <th>148</th>\n",
              "      <td>6.2</td>\n",
              "      <td>3.4</td>\n",
              "      <td>5.4</td>\n",
              "      <td>2.3</td>\n",
              "      <td>virginica</td>\n",
              "    </tr>\n",
              "    <tr>\n",
              "      <th>149</th>\n",
              "      <td>5.9</td>\n",
              "      <td>3.0</td>\n",
              "      <td>5.1</td>\n",
              "      <td>1.8</td>\n",
              "      <td>virginica</td>\n",
              "    </tr>\n",
              "  </tbody>\n",
              "</table>\n",
              "</div>"
            ],
            "text/plain": [
              "     sepal_length  sepal_width  petal_length  petal_width    species\n",
              "145           6.7          3.0           5.2          2.3  virginica\n",
              "146           6.3          2.5           5.0          1.9  virginica\n",
              "147           6.5          3.0           5.2          2.0  virginica\n",
              "148           6.2          3.4           5.4          2.3  virginica\n",
              "149           5.9          3.0           5.1          1.8  virginica"
            ]
          },
          "metadata": {
            "tags": []
          },
          "execution_count": 41
        }
      ]
    },
    {
      "cell_type": "code",
      "metadata": {
        "colab": {
          "base_uri": "https://localhost:8080/"
        },
        "id": "aCRNpRqwmplB",
        "outputId": "b7991c22-b7bc-4ed0-e8a2-81a49011717c"
      },
      "source": [
        "iris['species_encod'] = iris['species'].apply(lambda x: 0 if x == 'setosa' else 1 if x == 'versicolor' else 2)\n",
        "iris['species_encod'].unique()"
      ],
      "execution_count": null,
      "outputs": [
        {
          "output_type": "execute_result",
          "data": {
            "text/plain": [
              "array([0, 1, 2])"
            ]
          },
          "metadata": {
            "tags": []
          },
          "execution_count": 42
        }
      ]
    },
    {
      "cell_type": "code",
      "metadata": {
        "colab": {
          "base_uri": "https://localhost:8080/",
          "height": 204
        },
        "id": "NscgKhinnGpf",
        "outputId": "b4bcda24-742e-4a37-d079-22ae604dfc6b"
      },
      "source": [
        "y = iris[['species_encod']] # target attributes \n",
        "X = iris.iloc[:, 0:4] # input attributes\n",
        "X.head()"
      ],
      "execution_count": null,
      "outputs": [
        {
          "output_type": "execute_result",
          "data": {
            "text/html": [
              "<div>\n",
              "<style scoped>\n",
              "    .dataframe tbody tr th:only-of-type {\n",
              "        vertical-align: middle;\n",
              "    }\n",
              "\n",
              "    .dataframe tbody tr th {\n",
              "        vertical-align: top;\n",
              "    }\n",
              "\n",
              "    .dataframe thead th {\n",
              "        text-align: right;\n",
              "    }\n",
              "</style>\n",
              "<table border=\"1\" class=\"dataframe\">\n",
              "  <thead>\n",
              "    <tr style=\"text-align: right;\">\n",
              "      <th></th>\n",
              "      <th>sepal_length</th>\n",
              "      <th>sepal_width</th>\n",
              "      <th>petal_length</th>\n",
              "      <th>petal_width</th>\n",
              "    </tr>\n",
              "  </thead>\n",
              "  <tbody>\n",
              "    <tr>\n",
              "      <th>0</th>\n",
              "      <td>5.1</td>\n",
              "      <td>3.5</td>\n",
              "      <td>1.4</td>\n",
              "      <td>0.2</td>\n",
              "    </tr>\n",
              "    <tr>\n",
              "      <th>1</th>\n",
              "      <td>4.9</td>\n",
              "      <td>3.0</td>\n",
              "      <td>1.4</td>\n",
              "      <td>0.2</td>\n",
              "    </tr>\n",
              "    <tr>\n",
              "      <th>2</th>\n",
              "      <td>4.7</td>\n",
              "      <td>3.2</td>\n",
              "      <td>1.3</td>\n",
              "      <td>0.2</td>\n",
              "    </tr>\n",
              "    <tr>\n",
              "      <th>3</th>\n",
              "      <td>4.6</td>\n",
              "      <td>3.1</td>\n",
              "      <td>1.5</td>\n",
              "      <td>0.2</td>\n",
              "    </tr>\n",
              "    <tr>\n",
              "      <th>4</th>\n",
              "      <td>5.0</td>\n",
              "      <td>3.6</td>\n",
              "      <td>1.4</td>\n",
              "      <td>0.2</td>\n",
              "    </tr>\n",
              "  </tbody>\n",
              "</table>\n",
              "</div>"
            ],
            "text/plain": [
              "   sepal_length  sepal_width  petal_length  petal_width\n",
              "0           5.1          3.5           1.4          0.2\n",
              "1           4.9          3.0           1.4          0.2\n",
              "2           4.7          3.2           1.3          0.2\n",
              "3           4.6          3.1           1.5          0.2\n",
              "4           5.0          3.6           1.4          0.2"
            ]
          },
          "metadata": {
            "tags": []
          },
          "execution_count": 43
        }
      ]
    },
    {
      "cell_type": "code",
      "metadata": {
        "colab": {
          "base_uri": "https://localhost:8080/",
          "height": 204
        },
        "id": "tP1x-O-Wnezy",
        "outputId": "41d28a28-5c7d-44cf-8871-126da74ea76f"
      },
      "source": [
        "y.head()"
      ],
      "execution_count": null,
      "outputs": [
        {
          "output_type": "execute_result",
          "data": {
            "text/html": [
              "<div>\n",
              "<style scoped>\n",
              "    .dataframe tbody tr th:only-of-type {\n",
              "        vertical-align: middle;\n",
              "    }\n",
              "\n",
              "    .dataframe tbody tr th {\n",
              "        vertical-align: top;\n",
              "    }\n",
              "\n",
              "    .dataframe thead th {\n",
              "        text-align: right;\n",
              "    }\n",
              "</style>\n",
              "<table border=\"1\" class=\"dataframe\">\n",
              "  <thead>\n",
              "    <tr style=\"text-align: right;\">\n",
              "      <th></th>\n",
              "      <th>species_encod</th>\n",
              "    </tr>\n",
              "  </thead>\n",
              "  <tbody>\n",
              "    <tr>\n",
              "      <th>0</th>\n",
              "      <td>0</td>\n",
              "    </tr>\n",
              "    <tr>\n",
              "      <th>1</th>\n",
              "      <td>0</td>\n",
              "    </tr>\n",
              "    <tr>\n",
              "      <th>2</th>\n",
              "      <td>0</td>\n",
              "    </tr>\n",
              "    <tr>\n",
              "      <th>3</th>\n",
              "      <td>0</td>\n",
              "    </tr>\n",
              "    <tr>\n",
              "      <th>4</th>\n",
              "      <td>0</td>\n",
              "    </tr>\n",
              "  </tbody>\n",
              "</table>\n",
              "</div>"
            ],
            "text/plain": [
              "   species_encod\n",
              "0              0\n",
              "1              0\n",
              "2              0\n",
              "3              0\n",
              "4              0"
            ]
          },
          "metadata": {
            "tags": []
          },
          "execution_count": 44
        }
      ]
    },
    {
      "cell_type": "code",
      "metadata": {
        "colab": {
          "base_uri": "https://localhost:8080/",
          "height": 297
        },
        "id": "Jl6fcteZnjsF",
        "outputId": "99f5064c-b771-4e1e-abe9-525c6fda9ea6"
      },
      "source": [
        "from sklearn.preprocessing import MinMaxScaler\n",
        "scaler = MinMaxScaler()\n",
        "X = scaler.fit_transform(X.to_numpy())\n",
        "X = pd.DataFrame(X, columns = ['sepal_length','sepal_width','petal_length','petal_width'])\n",
        "X.describe()"
      ],
      "execution_count": null,
      "outputs": [
        {
          "output_type": "execute_result",
          "data": {
            "text/html": [
              "<div>\n",
              "<style scoped>\n",
              "    .dataframe tbody tr th:only-of-type {\n",
              "        vertical-align: middle;\n",
              "    }\n",
              "\n",
              "    .dataframe tbody tr th {\n",
              "        vertical-align: top;\n",
              "    }\n",
              "\n",
              "    .dataframe thead th {\n",
              "        text-align: right;\n",
              "    }\n",
              "</style>\n",
              "<table border=\"1\" class=\"dataframe\">\n",
              "  <thead>\n",
              "    <tr style=\"text-align: right;\">\n",
              "      <th></th>\n",
              "      <th>sepal_length</th>\n",
              "      <th>sepal_width</th>\n",
              "      <th>petal_length</th>\n",
              "      <th>petal_width</th>\n",
              "    </tr>\n",
              "  </thead>\n",
              "  <tbody>\n",
              "    <tr>\n",
              "      <th>count</th>\n",
              "      <td>150.000000</td>\n",
              "      <td>150.000000</td>\n",
              "      <td>150.000000</td>\n",
              "      <td>150.000000</td>\n",
              "    </tr>\n",
              "    <tr>\n",
              "      <th>mean</th>\n",
              "      <td>0.428704</td>\n",
              "      <td>0.440556</td>\n",
              "      <td>0.467458</td>\n",
              "      <td>0.458056</td>\n",
              "    </tr>\n",
              "    <tr>\n",
              "      <th>std</th>\n",
              "      <td>0.230018</td>\n",
              "      <td>0.181611</td>\n",
              "      <td>0.299203</td>\n",
              "      <td>0.317599</td>\n",
              "    </tr>\n",
              "    <tr>\n",
              "      <th>min</th>\n",
              "      <td>0.000000</td>\n",
              "      <td>0.000000</td>\n",
              "      <td>0.000000</td>\n",
              "      <td>0.000000</td>\n",
              "    </tr>\n",
              "    <tr>\n",
              "      <th>25%</th>\n",
              "      <td>0.222222</td>\n",
              "      <td>0.333333</td>\n",
              "      <td>0.101695</td>\n",
              "      <td>0.083333</td>\n",
              "    </tr>\n",
              "    <tr>\n",
              "      <th>50%</th>\n",
              "      <td>0.416667</td>\n",
              "      <td>0.416667</td>\n",
              "      <td>0.567797</td>\n",
              "      <td>0.500000</td>\n",
              "    </tr>\n",
              "    <tr>\n",
              "      <th>75%</th>\n",
              "      <td>0.583333</td>\n",
              "      <td>0.541667</td>\n",
              "      <td>0.694915</td>\n",
              "      <td>0.708333</td>\n",
              "    </tr>\n",
              "    <tr>\n",
              "      <th>max</th>\n",
              "      <td>1.000000</td>\n",
              "      <td>1.000000</td>\n",
              "      <td>1.000000</td>\n",
              "      <td>1.000000</td>\n",
              "    </tr>\n",
              "  </tbody>\n",
              "</table>\n",
              "</div>"
            ],
            "text/plain": [
              "       sepal_length  sepal_width  petal_length  petal_width\n",
              "count    150.000000   150.000000    150.000000   150.000000\n",
              "mean       0.428704     0.440556      0.467458     0.458056\n",
              "std        0.230018     0.181611      0.299203     0.317599\n",
              "min        0.000000     0.000000      0.000000     0.000000\n",
              "25%        0.222222     0.333333      0.101695     0.083333\n",
              "50%        0.416667     0.416667      0.567797     0.500000\n",
              "75%        0.583333     0.541667      0.694915     0.708333\n",
              "max        1.000000     1.000000      1.000000     1.000000"
            ]
          },
          "metadata": {
            "tags": []
          },
          "execution_count": 45
        }
      ]
    },
    {
      "cell_type": "code",
      "metadata": {
        "colab": {
          "base_uri": "https://localhost:8080/"
        },
        "id": "f72dTK8Dn14l",
        "outputId": "d1eafc03-81e0-4e4b-e38b-e66f6e1909a1"
      },
      "source": [
        "import random\n",
        "from sklearn.model_selection import train_test_split\n",
        "random.seed(42) # for reproducibility purposes\n",
        "X_train, X_test, y_train, y_test = train_test_split(X, y, test_size=0.3,\n",
        "                                                    random_state=0, stratify=y)\n",
        "\n",
        "np.shape(y_train)"
      ],
      "execution_count": null,
      "outputs": [
        {
          "output_type": "execute_result",
          "data": {
            "text/plain": [
              "(105, 1)"
            ]
          },
          "metadata": {
            "tags": []
          },
          "execution_count": 46
        }
      ]
    },
    {
      "cell_type": "code",
      "metadata": {
        "id": "TPV5KE3epqDq"
      },
      "source": [
        "from sklearn import tree\n",
        "clf = tree.DecisionTreeClassifier()\n",
        "clf = clf.fit(X_train,y_train)"
      ],
      "execution_count": null,
      "outputs": []
    },
    {
      "cell_type": "code",
      "metadata": {
        "colab": {
          "base_uri": "https://localhost:8080/"
        },
        "id": "wULJ4hjwptw2",
        "outputId": "877157ca-c88a-4b2b-9b21-678502718935"
      },
      "source": [
        "clf.predict(X_test.iloc[0:10])"
      ],
      "execution_count": null,
      "outputs": [
        {
          "output_type": "execute_result",
          "data": {
            "text/plain": [
              "array([2, 2, 0, 0, 1, 0, 1, 2, 0, 1])"
            ]
          },
          "metadata": {
            "tags": []
          },
          "execution_count": 48
        }
      ]
    },
    {
      "cell_type": "code",
      "metadata": {
        "colab": {
          "base_uri": "https://localhost:8080/",
          "height": 359
        },
        "id": "I9iht2-ipww5",
        "outputId": "f18f180c-82d0-472d-ceb3-a159b0aff761"
      },
      "source": [
        "y_test[0:10]"
      ],
      "execution_count": null,
      "outputs": [
        {
          "output_type": "execute_result",
          "data": {
            "text/html": [
              "<div>\n",
              "<style scoped>\n",
              "    .dataframe tbody tr th:only-of-type {\n",
              "        vertical-align: middle;\n",
              "    }\n",
              "\n",
              "    .dataframe tbody tr th {\n",
              "        vertical-align: top;\n",
              "    }\n",
              "\n",
              "    .dataframe thead th {\n",
              "        text-align: right;\n",
              "    }\n",
              "</style>\n",
              "<table border=\"1\" class=\"dataframe\">\n",
              "  <thead>\n",
              "    <tr style=\"text-align: right;\">\n",
              "      <th></th>\n",
              "      <th>species_encod</th>\n",
              "    </tr>\n",
              "  </thead>\n",
              "  <tbody>\n",
              "    <tr>\n",
              "      <th>136</th>\n",
              "      <td>2</td>\n",
              "    </tr>\n",
              "    <tr>\n",
              "      <th>142</th>\n",
              "      <td>2</td>\n",
              "    </tr>\n",
              "    <tr>\n",
              "      <th>39</th>\n",
              "      <td>0</td>\n",
              "    </tr>\n",
              "    <tr>\n",
              "      <th>44</th>\n",
              "      <td>0</td>\n",
              "    </tr>\n",
              "    <tr>\n",
              "      <th>50</th>\n",
              "      <td>1</td>\n",
              "    </tr>\n",
              "    <tr>\n",
              "      <th>23</th>\n",
              "      <td>0</td>\n",
              "    </tr>\n",
              "    <tr>\n",
              "      <th>90</th>\n",
              "      <td>1</td>\n",
              "    </tr>\n",
              "    <tr>\n",
              "      <th>149</th>\n",
              "      <td>2</td>\n",
              "    </tr>\n",
              "    <tr>\n",
              "      <th>46</th>\n",
              "      <td>0</td>\n",
              "    </tr>\n",
              "    <tr>\n",
              "      <th>55</th>\n",
              "      <td>1</td>\n",
              "    </tr>\n",
              "  </tbody>\n",
              "</table>\n",
              "</div>"
            ],
            "text/plain": [
              "     species_encod\n",
              "136              2\n",
              "142              2\n",
              "39               0\n",
              "44               0\n",
              "50               1\n",
              "23               0\n",
              "90               1\n",
              "149              2\n",
              "46               0\n",
              "55               1"
            ]
          },
          "metadata": {
            "tags": []
          },
          "execution_count": 49
        }
      ]
    },
    {
      "cell_type": "code",
      "metadata": {
        "colab": {
          "base_uri": "https://localhost:8080/"
        },
        "id": "rqks7_gYp7q9",
        "outputId": "8fb7d99f-5135-4e42-ed5e-13651e14008c"
      },
      "source": [
        "clf.score(X_test, y_test)"
      ],
      "execution_count": null,
      "outputs": [
        {
          "output_type": "execute_result",
          "data": {
            "text/plain": [
              "0.9777777777777777"
            ]
          },
          "metadata": {
            "tags": []
          },
          "execution_count": 50
        }
      ]
    },
    {
      "cell_type": "code",
      "metadata": {
        "colab": {
          "base_uri": "https://localhost:8080/",
          "height": 958
        },
        "id": "kUMojNGMp-tV",
        "outputId": "a6e58e77-7556-4d24-b69f-cbf15b8a29fc"
      },
      "source": [
        "plt.figure(figsize=(12,12))\n",
        "tree.plot_tree(clf,feature_names=X.columns, class_names=iris['species'].unique(),filled=True, fontsize=8)"
      ],
      "execution_count": null,
      "outputs": [
        {
          "output_type": "execute_result",
          "data": {
            "text/plain": [
              "[Text(334.8, 587.0880000000001, 'petal_width <= 0.292\\ngini = 0.667\\nsamples = 105\\nvalue = [35, 35, 35]\\nclass = setosa'),\n",
              " Text(283.2923076923077, 456.624, 'gini = 0.0\\nsamples = 35\\nvalue = [35, 0, 0]\\nclass = setosa'),\n",
              " Text(386.3076923076923, 456.624, 'petal_width <= 0.688\\ngini = 0.5\\nsamples = 70\\nvalue = [0, 35, 35]\\nclass = versicolor'),\n",
              " Text(206.03076923076924, 326.1600000000001, 'petal_length <= 0.669\\ngini = 0.149\\nsamples = 37\\nvalue = [0, 34, 3]\\nclass = versicolor'),\n",
              " Text(103.01538461538462, 195.69600000000003, 'petal_width <= 0.646\\ngini = 0.059\\nsamples = 33\\nvalue = [0, 32, 1]\\nclass = versicolor'),\n",
              " Text(51.50769230769231, 65.23200000000008, 'gini = 0.0\\nsamples = 32\\nvalue = [0, 32, 0]\\nclass = versicolor'),\n",
              " Text(154.52307692307693, 65.23200000000008, 'gini = 0.0\\nsamples = 1\\nvalue = [0, 0, 1]\\nclass = virginica'),\n",
              " Text(309.04615384615386, 195.69600000000003, 'petal_width <= 0.604\\ngini = 0.5\\nsamples = 4\\nvalue = [0, 2, 2]\\nclass = versicolor'),\n",
              " Text(257.53846153846155, 65.23200000000008, 'gini = 0.0\\nsamples = 2\\nvalue = [0, 0, 2]\\nclass = virginica'),\n",
              " Text(360.55384615384617, 65.23200000000008, 'gini = 0.0\\nsamples = 2\\nvalue = [0, 2, 0]\\nclass = versicolor'),\n",
              " Text(566.5846153846154, 326.1600000000001, 'petal_length <= 0.653\\ngini = 0.059\\nsamples = 33\\nvalue = [0, 1, 32]\\nclass = virginica'),\n",
              " Text(515.0769230769231, 195.69600000000003, 'sepal_width <= 0.458\\ngini = 0.444\\nsamples = 3\\nvalue = [0, 1, 2]\\nclass = virginica'),\n",
              " Text(463.5692307692308, 65.23200000000008, 'gini = 0.0\\nsamples = 2\\nvalue = [0, 0, 2]\\nclass = virginica'),\n",
              " Text(566.5846153846154, 65.23200000000008, 'gini = 0.0\\nsamples = 1\\nvalue = [0, 1, 0]\\nclass = versicolor'),\n",
              " Text(618.0923076923077, 195.69600000000003, 'gini = 0.0\\nsamples = 30\\nvalue = [0, 0, 30]\\nclass = virginica')]"
            ]
          },
          "metadata": {
            "tags": []
          },
          "execution_count": 51
        },
        {
          "output_type": "display_data",
          "data": {
            "image/png": "[encoded data removed]",
            "text/plain": [
              "<Figure size 864x864 with 1 Axes>"
            ]
          },
          "metadata": {
            "tags": [],
            "needs_background": "light"
          }
        }
      ]
    },
    {
      "cell_type": "markdown",
      "metadata": {
        "id": "XesVDqeGft6C"
      },
      "source": [
        "### 2b. Digit classification\n",
        "\n",
        "The MNIST handwritten digit dataset consists of a training set of 60,000 examples, and a test set of 10,000 examples. Each image in the dataset has 28$\\times$28 pixels. \n",
        "\n",
        "The Python code below loads the images from the MNIST dataset, flattens them, normalizes them (i.e., maps the intensity values from [0..255] to [0..1]), and displays a few images from the training set."
      ]
    },
    {
      "cell_type": "code",
      "metadata": {
        "id": "QTJNAnEJiBIS"
      },
      "source": [
        "from keras.datasets import mnist\n",
        "\n",
        "# Model / data parameters\n",
        "num_classes = 10\n",
        "input_shape = (28, 28, 1)\n",
        "\n",
        "# the data, split between train and validation sets\n",
        "(X_train, y_train), (X_valid, y_valid) = mnist.load_data()"
      ],
      "execution_count": null,
      "outputs": []
    },
    {
      "cell_type": "code",
      "metadata": {
        "id": "33ifPmyqiLtx",
        "colab": {
          "base_uri": "https://localhost:8080/"
        },
        "outputId": "3a346664-f2f7-4e7a-9a81-25b901771942"
      },
      "source": [
        "X_train.shape"
      ],
      "execution_count": null,
      "outputs": [
        {
          "output_type": "execute_result",
          "data": {
            "text/plain": [
              "(60000, 28, 28)"
            ]
          },
          "metadata": {
            "tags": []
          },
          "execution_count": 53
        }
      ]
    },
    {
      "cell_type": "code",
      "metadata": {
        "id": "Gcvsy-IriOfl",
        "colab": {
          "base_uri": "https://localhost:8080/"
        },
        "outputId": "99b56e46-0d43-4e8a-832b-8fd00e432459"
      },
      "source": [
        "y_train.shape"
      ],
      "execution_count": null,
      "outputs": [
        {
          "output_type": "execute_result",
          "data": {
            "text/plain": [
              "(60000,)"
            ]
          },
          "metadata": {
            "tags": []
          },
          "execution_count": 54
        }
      ]
    },
    {
      "cell_type": "code",
      "metadata": {
        "id": "fFmY8QKfiR7I",
        "colab": {
          "base_uri": "https://localhost:8080/"
        },
        "outputId": "076744b3-cf8a-4767-db6a-ade352a07737"
      },
      "source": [
        "y_train[0:12]"
      ],
      "execution_count": null,
      "outputs": [
        {
          "output_type": "execute_result",
          "data": {
            "text/plain": [
              "array([5, 0, 4, 1, 9, 2, 1, 3, 1, 4, 3, 5], dtype=uint8)"
            ]
          },
          "metadata": {
            "tags": []
          },
          "execution_count": 55
        }
      ]
    },
    {
      "cell_type": "code",
      "metadata": {
        "id": "JUkO-HA8iZIi",
        "colab": {
          "base_uri": "https://localhost:8080/",
          "height": 327
        },
        "outputId": "43394451-b4ec-4ecd-b3f6-9969987d1cc3"
      },
      "source": [
        "plt.figure(figsize=(5,5))\n",
        "for k in range(12):\n",
        "    plt.subplot(3, 4, k+1)\n",
        "    plt.imshow(X_train[k], cmap='Greys')\n",
        "    plt.axis('off')\n",
        "plt.tight_layout()\n",
        "plt.show()"
      ],
      "execution_count": null,
      "outputs": [
        {
          "output_type": "display_data",
          "data": {
            "image/png": "[encoded data removed]",
            "text/plain": [
              "<Figure size 360x360 with 12 Axes>"
            ]
          },
          "metadata": {
            "tags": [],
            "needs_background": "light"
          }
        }
      ]
    },
    {
      "cell_type": "code",
      "metadata": {
        "id": "I7eH9sc4ibu3",
        "colab": {
          "base_uri": "https://localhost:8080/"
        },
        "outputId": "556fd51b-e593-4a13-ddf1-6e446dbe974a"
      },
      "source": [
        "X_valid.shape"
      ],
      "execution_count": null,
      "outputs": [
        {
          "output_type": "execute_result",
          "data": {
            "text/plain": [
              "(10000, 28, 28)"
            ]
          },
          "metadata": {
            "tags": []
          },
          "execution_count": 57
        }
      ]
    },
    {
      "cell_type": "code",
      "metadata": {
        "id": "wGa5yU51ieD1",
        "colab": {
          "base_uri": "https://localhost:8080/"
        },
        "outputId": "b66b2bfc-397e-4176-b5ef-0c6bcc291f6a"
      },
      "source": [
        "y_valid.shape"
      ],
      "execution_count": null,
      "outputs": [
        {
          "output_type": "execute_result",
          "data": {
            "text/plain": [
              "(10000,)"
            ]
          },
          "metadata": {
            "tags": []
          },
          "execution_count": 58
        }
      ]
    },
    {
      "cell_type": "code",
      "metadata": {
        "id": "lvmcA-mvif5J",
        "colab": {
          "base_uri": "https://localhost:8080/"
        },
        "outputId": "63b8c02a-5760-4482-9c08-1e9f8aae56dc"
      },
      "source": [
        "y_valid[0]"
      ],
      "execution_count": null,
      "outputs": [
        {
          "output_type": "execute_result",
          "data": {
            "text/plain": [
              "7"
            ]
          },
          "metadata": {
            "tags": []
          },
          "execution_count": 59
        }
      ]
    },
    {
      "cell_type": "code",
      "metadata": {
        "id": "7G-9DejPih6y",
        "colab": {
          "base_uri": "https://localhost:8080/",
          "height": 248
        },
        "outputId": "e878d2e7-a45c-4774-bb5e-f6b002f1b0c6"
      },
      "source": [
        "plt.imshow(X_valid[0], cmap='Greys')\n",
        "plt.axis('off')\n",
        "plt.show()"
      ],
      "execution_count": null,
      "outputs": [
        {
          "output_type": "display_data",
          "data": {
            "image/png": "[encoded data removed]",
            "text/plain": [
              "<Figure size 432x288 with 1 Axes>"
            ]
          },
          "metadata": {
            "tags": [],
            "needs_background": "light"
          }
        }
      ]
    },
    {
      "cell_type": "code",
      "metadata": {
        "id": "PXV8DilKikfk",
        "colab": {
          "base_uri": "https://localhost:8080/"
        },
        "outputId": "2893321c-6779-4258-a41f-36613f2399ae"
      },
      "source": [
        "# Reshape (flatten) images \n",
        "X_train_reshaped = X_train.reshape(60000, 784).astype('float32')\n",
        "X_valid_reshaped = X_valid.reshape(10000, 784).astype('float32')\n",
        "\n",
        "# Scale images to the [0, 1] range\n",
        "X_train_scaled_reshaped = X_train_reshaped / 255\n",
        "X_valid_scaled_reshaped = X_valid_reshaped / 255\n",
        "\n",
        "# Renaming for conciseness\n",
        "X_training = X_train_scaled_reshaped\n",
        "X_validation = X_valid_scaled_reshaped\n",
        "\n",
        "print(\"X_training shape (after reshaping + scaling):\", X_training.shape)\n",
        "print(X_training.shape[0], \"train samples\")\n",
        "print(\"X_validation shape (after reshaping + scaling):\", X_validation.shape)\n",
        "print(X_validation.shape[0], \"validation samples\")"
      ],
      "execution_count": null,
      "outputs": [
        {
          "output_type": "stream",
          "text": [
            "X_training shape (after reshaping + scaling): (60000, 784)\n",
            "60000 train samples\n",
            "X_validation shape (after reshaping + scaling): (10000, 784)\n",
            "10000 validation samples\n"
          ],
          "name": "stdout"
        }
      ]
    },
    {
      "cell_type": "code",
      "metadata": {
        "id": "VZG2TGC_inSV"
      },
      "source": [
        "import tensorflow as tf\n",
        "# convert class vectors to binary class matrices\n",
        "y_training = tf.keras.utils.to_categorical(y_train, num_classes)\n",
        "y_validation = tf.keras.utils.to_categorical(y_valid, num_classes)"
      ],
      "execution_count": null,
      "outputs": []
    },
    {
      "cell_type": "code",
      "metadata": {
        "id": "l9O6Bq7PipQI",
        "colab": {
          "base_uri": "https://localhost:8080/"
        },
        "outputId": "62ca336e-cb91-4cba-e765-dd17906c5e1e"
      },
      "source": [
        "print(y_valid[0])\n",
        "print(y_validation[0])"
      ],
      "execution_count": null,
      "outputs": [
        {
          "output_type": "stream",
          "text": [
            "7\n",
            "[0. 0. 0. 0. 0. 0. 0. 1. 0. 0.]\n"
          ],
          "name": "stdout"
        }
      ]
    },
    {
      "cell_type": "markdown",
      "metadata": {
        "id": "Vkt05yhuitE_"
      },
      "source": [
        "#### A baseline classifier\n",
        "\n",
        "The code below is an example of how to:\n",
        "\n",
        "1. Build and fit a 10-class Naive Bayes classifier using scikit-learn's `MultinomialNB()` with default options and using the raw pixel values as features. \n",
        "2. Make predictions on the test data, compute the overall accuracy, and plot the resulting confusing matrix.\n"
      ]
    },
    {
      "cell_type": "code",
      "metadata": {
        "id": "H3hKlWhyi3J1"
      },
      "source": [
        "from sklearn.naive_bayes import MultinomialNB\n",
        "model = MultinomialNB()\n",
        "model.fit(X_training, y_train)\n",
        "pred_labels = model.predict(X_validation)"
      ],
      "execution_count": null,
      "outputs": []
    },
    {
      "cell_type": "code",
      "metadata": {
        "id": "JfwUJsIvjpaE",
        "colab": {
          "base_uri": "https://localhost:8080/"
        },
        "outputId": "71924361-32e2-48a3-ee17-71a6e1f3be1d"
      },
      "source": [
        "pred_labels.shape"
      ],
      "execution_count": null,
      "outputs": [
        {
          "output_type": "execute_result",
          "data": {
            "text/plain": [
              "(10000,)"
            ]
          },
          "metadata": {
            "tags": []
          },
          "execution_count": 78
        }
      ]
    },
    {
      "cell_type": "code",
      "metadata": {
        "id": "cMJu4l1tjkxu",
        "colab": {
          "base_uri": "https://localhost:8080/"
        },
        "outputId": "96b821d4-0744-4076-fc42-430d7bc60fbb"
      },
      "source": [
        "print(pred_labels)"
      ],
      "execution_count": null,
      "outputs": [
        {
          "output_type": "stream",
          "text": [
            "[7 2 1 ... 9 8 6]\n"
          ],
          "name": "stdout"
        }
      ]
    },
    {
      "cell_type": "code",
      "metadata": {
        "id": "mclW1t7hjsiL",
        "colab": {
          "base_uri": "https://localhost:8080/"
        },
        "outputId": "7cc38f2a-dd78-48d7-dca2-f37847bf7974"
      },
      "source": [
        "print(y_valid)"
      ],
      "execution_count": null,
      "outputs": [
        {
          "output_type": "stream",
          "text": [
            "[7 2 1 ... 4 5 6]\n"
          ],
          "name": "stdout"
        }
      ]
    },
    {
      "cell_type": "code",
      "metadata": {
        "id": "veIXgAmojcD0",
        "colab": {
          "base_uri": "https://localhost:8080/",
          "height": 285
        },
        "outputId": "f822c918-2e75-4d7b-ad5f-455c7d78217e"
      },
      "source": [
        "from sklearn.metrics import confusion_matrix\n",
        "import seaborn as sns \n",
        "mat = confusion_matrix(y_valid, pred_labels)\n",
        "sns.heatmap(mat.T, square=True, annot=True, fmt='d', cbar=False, cmap=\"YlGnBu\")\n",
        "plt.xlabel('true label')\n",
        "plt.ylabel('predicted label');"
      ],
      "execution_count": null,
      "outputs": [
        {
          "output_type": "display_data",
          "data": {
            "image/png": "[encoded data removed]",
            "text/plain": [
              "<Figure size 432x288 with 1 Axes>"
            ]
          },
          "metadata": {
            "tags": [],
            "needs_background": "light"
          }
        }
      ]
    },
    {
      "cell_type": "code",
      "metadata": {
        "id": "PSSU0QaEj5rY",
        "colab": {
          "base_uri": "https://localhost:8080/"
        },
        "outputId": "256e3aff-f6bf-41e4-cbf6-677d8387139b"
      },
      "source": [
        "from sklearn.metrics import accuracy_score\n",
        "accuracy_score(y_valid, pred_labels)"
      ],
      "execution_count": null,
      "outputs": [
        {
          "output_type": "execute_result",
          "data": {
            "text/plain": [
              "0.8357"
            ]
          },
          "metadata": {
            "tags": []
          },
          "execution_count": 82
        }
      ]
    },
    {
      "cell_type": "markdown",
      "metadata": {
        "id": "bRNfQt7EkAWS"
      },
      "source": [
        "#### 2.2 Your turn! (20 points)\n",
        "\n",
        "Write code to: \n",
        "\n",
        "1. Build and fit a 10-class Random Forests classifier using scikit-learn's `RandomForestClassifier()` with default options (don't forget `random_state=0`) and using the raw pixel values as features. \n",
        "2. Make predictions on the test data, compute the overall accuracy and plot the resulting confusing matrix. \n",
        "\n",
        "Hint: your accuracy should be > 90%"
      ]
    },
    {
      "cell_type": "code",
      "metadata": {
        "id": "g3YAFEx9kIlY"
      },
      "source": [
        "# ENTER YOUR CODE HERE\n",
        "from sklearn.ensemble import RandomForestClassifier"
      ],
      "execution_count": null,
      "outputs": []
    },
    {
      "cell_type": "code",
      "metadata": {
        "colab": {
          "base_uri": "https://localhost:8080/"
        },
        "id": "lYhaANpf38aN",
        "outputId": "8d8500f4-1646-4729-9caf-a985f815d8ba"
      },
      "source": [
        "X_training.shape"
      ],
      "execution_count": null,
      "outputs": [
        {
          "output_type": "execute_result",
          "data": {
            "text/plain": [
              "(60000, 784)"
            ]
          },
          "metadata": {
            "tags": []
          },
          "execution_count": 92
        }
      ]
    },
    {
      "cell_type": "code",
      "metadata": {
        "colab": {
          "base_uri": "https://localhost:8080/"
        },
        "id": "F5GLMAea4Zbt",
        "outputId": "3c9f4d79-2003-4c2a-e096-e97725e35ec0"
      },
      "source": [
        "rf = RandomForestClassifier(n_estimators=100)\n",
        "rf.fit(X_training,y_train)"
      ],
      "execution_count": null,
      "outputs": [
        {
          "output_type": "execute_result",
          "data": {
            "text/plain": [
              "RandomForestClassifier(bootstrap=True, ccp_alpha=0.0, class_weight=None,\n",
              "                       criterion='gini', max_depth=None, max_features='auto',\n",
              "                       max_leaf_nodes=None, max_samples=None,\n",
              "                       min_impurity_decrease=0.0, min_impurity_split=None,\n",
              "                       min_samples_leaf=1, min_samples_split=2,\n",
              "                       min_weight_fraction_leaf=0.0, n_estimators=100,\n",
              "                       n_jobs=None, oob_score=False, random_state=None,\n",
              "                       verbose=0, warm_start=False)"
            ]
          },
          "metadata": {
            "tags": []
          },
          "execution_count": 93
        }
      ]
    },
    {
      "cell_type": "code",
      "metadata": {
        "colab": {
          "base_uri": "https://localhost:8080/"
        },
        "id": "a1G9mzST5Fyd",
        "outputId": "f6e1949d-fab3-46fe-cc9a-568d64ccd43a"
      },
      "source": [
        "pred_val_labels = rf.predict(X_validation)\n",
        "print(pred_val_labels)\n",
        "print(y_valid)\n",
        "rf.score(X_validation,y_valid) #score for validation accuracy"
      ],
      "execution_count": null,
      "outputs": [
        {
          "output_type": "stream",
          "text": [
            "[7 2 1 ... 4 5 6]\n",
            "[7 2 1 ... 4 5 6]\n"
          ],
          "name": "stdout"
        },
        {
          "output_type": "execute_result",
          "data": {
            "text/plain": [
              "0.9693"
            ]
          },
          "metadata": {
            "tags": []
          },
          "execution_count": 99
        }
      ]
    },
    {
      "cell_type": "code",
      "metadata": {
        "colab": {
          "base_uri": "https://localhost:8080/",
          "height": 455
        },
        "id": "ytcMxrgQ6JPp",
        "outputId": "26980922-3510-4805-a0be-a6b7003f9d81"
      },
      "source": [
        "conf_mat = confusion_matrix(y_valid,pred_val_labels)\n",
        "print(conf_mat)\n",
        "sns.heatmap(conf_mat, square=True, annot=True, fmt='d', cbar=False, cmap=\"YlGnBu\")\n",
        "plt.xlabel('true label')\n",
        "plt.ylabel('predicted label');"
      ],
      "execution_count": null,
      "outputs": [
        {
          "output_type": "stream",
          "text": [
            "[[ 970    0    0    0    0    3    2    1    3    1]\n",
            " [   0 1124    2    2    1    1    3    0    2    0]\n",
            " [   5    0 1002    5    2    0    3    7    7    1]\n",
            " [   0    0    9  973    0    6    0   10   10    2]\n",
            " [   1    0    2    0  955    0    4    0    2   18]\n",
            " [   2    0    0   16    2  855    7    1    6    3]\n",
            " [   7    3    0    0    4    8  932    0    4    0]\n",
            " [   2    3   19    1    1    0    0  991    1   10]\n",
            " [   4    0    6    6    4    5    4    5  931    9]\n",
            " [   6    5    3   12   11    0    1    3    8  960]]\n"
          ],
          "name": "stdout"
        },
        {
          "output_type": "display_data",
          "data": {
            "image/png": "[encoded data removed]",
            "text/plain": [
              "<Figure size 432x288 with 1 Axes>"
            ]
          },
          "metadata": {
            "tags": [],
            "needs_background": "light"
          }
        }
      ]
    },
    {
      "cell_type": "markdown",
      "metadata": {
        "id": "GLi0m9uuKkpD"
      },
      "source": [
        "## Conclusions (21 points)\n",
        "\n",
        "Write your conclusions and make sure to address the issues below:\n",
        "- What have you learned from this assignment?\n",
        "\n",
        "From this assignment I have learned the basics of data analysis. This includes preprocessing data which was in my opinion the most important part of this assignment. I have also learned more about some of the most popular data science libraries such as Pandas, Numpy and ScikitLearn as well as plotting libraries such as Matplotlib and Seaborn. I have learned more about manipulating data using Pandas dataframes and converting them to Numpy arrays to obtain more information from the data and to be able to plot that information in representative ways that allow me to better analyze the data.\n",
        "\n",
        "- Which parts were the most fun, time-consuming, enlightening, tedious?\n",
        "\n",
        "The fun part was using ScikitLearn to create machine learning models that classify the data based on attributes and labels using the pre-programmed models from this library. The time-consuming part was reading documentation on how to implement these models. Another time-consuming and tedious task was learning the basic of Pandas to be able to understand the starter code as well as how to manipulate the data to create new plots.\n",
        "\n",
        "- What would you do if you had an additional week to work on this?\n",
        "\n",
        "I would look for more types of plots that give additional insight into the data from the salary csv file."
      ]
    }
  ]
}