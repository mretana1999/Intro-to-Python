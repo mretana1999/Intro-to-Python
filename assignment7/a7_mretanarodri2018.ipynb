{
  "nbformat": 4,
  "nbformat_minor": 0,
  "metadata": {
    "colab": {
      "name": "a7_mretanarodri2018.ipynb",
      "provenance": [],
      "collapsed_sections": [],
      "include_colab_link": true
    },
    "kernelspec": {
      "name": "python3",
      "display_name": "Python 3"
    },
    "language_info": {
      "name": "python"
    }
  },
  "cells": [
    {
      "cell_type": "markdown",
      "metadata": {
        "id": "view-in-github",
        "colab_type": "text"
      },
      "source": [
        "<a href=\"https://colab.research.google.com/github/mretana1999/Intro-to-Python/blob/main/assignment7/a7_mretanarodri2018.ipynb\" target=\"_parent\"><img src=\"https://colab.research.google.com/assets/colab-badge.svg\" alt=\"Open In Colab\"/></a>"
      ]
    },
    {
      "cell_type": "markdown",
      "metadata": {
        "id": "Favqo2AsH4dI"
      },
      "source": [
        "---\n",
        "#Intro to Python - COP 4045\n",
        "---\n",
        "\n",
        "###Assignment #7\n",
        "\n",
        "###**Mauricio Retana - Developer**\n",
        "###**Juan Pablo Idrovo - Reporter**\n",
        "\n",
        "###**Ryan Bharath - Architect**\n",
        "\n",
        "###July 14, 2021\n",
        "---"
      ]
    },
    {
      "cell_type": "markdown",
      "metadata": {
        "id": "aJ4RohDzH0zl"
      },
      "source": [
        "In this assignment #7 we designed an OOP solution to arithmetic operations involving colors. This operations involve color process in which the primarily colors [Red, Green, and Blue] are added or subtracted in order to create new colors like cyan, yellow, or magenta. For example, if we combine red with green the final result would be yellow.\n",
        "\n",
        "---\n",
        "The solution consisted in the creation of a class that we named 'color'. The constructor is in the function __init__ which coerce values into the required range by saturating. The addition function adds the RGB values and it makes sure that the values are normalizeed [values between 0 and 1]. The subtraction function that is inside the class takes the difference in between the color 1 and the color 2, it returns a new color object. The function __str__ converts the data into readable string. The function __repr__  prints a representation of x.  The function input_color, gets a single input color from user of format (r,g,b) or color name from color_dict and returns a color object with specified attributes. Finally, the pretty print function that makes the data more readable.\n",
        "\n",
        "---\n",
        "In the program, we ask the user to enter two colors [by name or by RBG values] and then we compute the difference of the colors to produce a result. Since the RGB values are normalized, the numbers will always be in between 0 and 1. The answer is displayed as RGB value or as a color name [if any]. The final solution is pretty printed for better visual effects.\n",
        "\n",
        "---"
      ]
    },
    {
      "cell_type": "markdown",
      "metadata": {
        "id": "od9DixJyavBY"
      },
      "source": [
        "## Assignment 7 Project Notes\n",
        "\n",
        "Limitations and future improvements:\n",
        "\n",
        "There is a limitation with the colors that have a name representation in the color_dict dictionary; there are only red, blue, green, yellow, cyan, magenta, and white. There are a wide variety of colors but only the ones that I mentioned are represented with the specific names. A future improvement would be the expansion of the dictionary so more colors would be represented with their name."
      ]
    },
    {
      "cell_type": "code",
      "metadata": {
        "colab": {
          "base_uri": "https://localhost:8080/"
        },
        "id": "Brr7obk9o1P7",
        "outputId": "5c4cdcde-5d9d-4d8e-f061-088ee13e08dd"
      },
      "source": [
        "class Color(object):\n",
        "    # Constructor\n",
        "    def __init__(self,r,g,b):\n",
        "        # coerce values into required range by saturating\n",
        "        if r < 0: r = 0\n",
        "        if r > 1: r = 1\n",
        "        if g < 0: g = 0\n",
        "        if g > 1: g = 1\n",
        "        if b < 0: b = 0\n",
        "        if b > 1: b = 1\n",
        "        self.r = float(r)\n",
        "        self.g = float(g)\n",
        "        self.b = float(b)\n",
        " \n",
        "    # Addition\n",
        "    def __add__(self,color_b):\n",
        "        # Add RGB values\n",
        "        new_red = self.r + color_b.r\n",
        "        new_green = self.g + color_b.g\n",
        "        new_blue = self.b + color_b.b\n",
        "        # Make sure new values are between 0 and 1\n",
        "        if new_red < 0.0 : new_red = 0.0\n",
        "        if new_red > 1.0 : new_red = 1.0\n",
        "        if new_green < 0.0 : new_green = 0.0\n",
        "        if new_green > 1.0 : new_green = 1.0\n",
        "        if new_blue < 0.0 : new_blue = 0.0\n",
        "        if new_blue > 1.0 : new_blue = 1.0\n",
        "        # Return a new Color object\n",
        "        return Color(new_red, new_green, new_blue)\n",
        "    \n",
        "    # Subtraction\n",
        "    def __sub__(self,color_b):\n",
        "        # Subtract RGB values\n",
        "        new_red = self.r - color_b.r\n",
        "        new_green = self.g - color_b.g\n",
        "        new_blue = self.b - color_b.b\n",
        "        # Make sure new values are between 0 and 1\n",
        "        if new_red < 0.0 : new_red = 0.0\n",
        "        if new_red > 1.0 : new_red = 1.0\n",
        "        if new_green < 0.0 : new_green = 0.0\n",
        "        if new_green > 1.0 : new_green = 1.0\n",
        "        if new_blue < 0.0 : new_blue = 0.0\n",
        "        if new_blue > 1.0 : new_blue = 1.0\n",
        "        # Return a new Color object\n",
        "        return Color(new_red, new_green, new_blue)\n",
        " \n",
        "    # Convert to a readable string\n",
        "    def __str__(self):\n",
        "        #print('Called the __str__ method')\n",
        "        return(f\"({self.r:.2f},{self.g:.2f},{self.b:.2f})\")\n",
        "    \n",
        "    # Print a representation of x\n",
        "    def __repr__(self):\n",
        "        #print('Called the __repr__ method')\n",
        "        return self.__str__()\n",
        " \n",
        "    def get_rgb_tuple(self):\n",
        "        ''' Returns color object in tuple representation (r,g,b).'''\n",
        "        return (self.r,self.g,self.b)\n",
        " \n",
        "    def get_name(self,color_dict:dict):\n",
        "        ''' Returns the name of color object if it is found in color_dict parameter, else None is returned. '''\n",
        "        rgb_value_tuple = self.get_rgb_tuple()\n",
        "        for color_name, color_rgb in color_dict.items():\n",
        "            if rgb_value_tuple == color_rgb:\n",
        "                return color_name\n",
        "        return None\n",
        " \n",
        "def input_color(color_dict:dict, prompt_str:str):\n",
        "    ''' Gets a single input color from user of format (r,g,b) or color name from color_dict. Returns a color object with specified attributes'''\n",
        "    while True:\n",
        "        color_input = input(prompt_str)\n",
        "        color_input = color_input.strip().lower()\n",
        "        if color_input in color_dict.keys(): #if the color is in color_dict\n",
        "            r,g,b = color_dict[color_input]\n",
        "            return Color(r,g,b)\n",
        "        else: #if the color is not in color_dict, try format (r,g,b)\n",
        "            try:\n",
        "                color_input_list = color_input.strip('()').split(',')\n",
        "                r,g,b = [float(num) for num in color_input_list]\n",
        "            except ValueError:\n",
        "                print('Invalid input! Try again with valid color name or valid format (r,g,b) no spaces, where r g b are numbers')\n",
        "                continue\n",
        "            else: #(r,g,b) input is correct\n",
        "                return Color(r,g,b)\n",
        " \n",
        "def pretty_print(color_add: Color, color_sub: Color, color_dict: dict):\n",
        "    print('Color 1 + Color 2 = ',end='')\n",
        "    color_add_str = color_add.get_name(color_dict)\n",
        "    if color_add_str is not None: \n",
        "        print(color_add_str) #if color found in color_dict parameter, print name\n",
        "    else:\n",
        "        print(color_add) #print in (r,g,b) format with Color.__str__ method\n",
        " \n",
        "    print('Color 1 - Color 2 = ',end='')\n",
        "    color_sub_str = color_sub.get_name(color_dict)\n",
        "    if color_sub_str is not None: \n",
        "        print(color_sub_str)\n",
        "    else:\n",
        "        print(color_sub)\n",
        " \n",
        " \n",
        "if __name__ == '__main__':\n",
        "    print('''\n",
        "    The purpose of this assignment is to perform addition and subtraction of\n",
        "    two colors inputted by the user. They can either enter the color by name or\n",
        "    by RGB values which will then return the new color after addition/subtraction.\n",
        "    ''')\n",
        "    while True:\n",
        "        color_dict = {'red': (1,0,0), 'green': (0,1,0), 'blue': (0,0,1), 'cyan': (0,1,1), 'magenta': (1,0,1), 'yellow': (1,1,0), 'black': (0,0,0), 'white': (1,1,1)}\n",
        "        color1 = input_color(color_dict,'Enter color 1: ')\n",
        "        #print(color1)\n",
        "        color2 = input_color(color_dict,'Enter color 2: ')\n",
        "        #print(color2)\n",
        "        color_add = color1 + color2\n",
        "        color_sub = color1 - color2\n",
        "        #print(color_add)\n",
        "        #print(color_sub)\n",
        "        pretty_print(color_add,color_sub,color_dict)\n",
        "        user_decision = input('Would you like to continue? [Y]es or [N]o ')\n",
        "        if user_decision[0] in ['Y','y']:\n",
        "            continue\n",
        "        else:\n",
        "            print('Thank you, goodbye!')\n",
        "            break"
      ],
      "execution_count": null,
      "outputs": [
        {
          "output_type": "stream",
          "text": [
            "The purpose of this assignment is to perform addition and subtraction of two colors inputted by the user.\n",
            "They can either enter the color by name or by RGB values which will then return the new color after addition/subtraction. \n",
            "Enter color 1: Blue\n",
            "Enter color 2: magenta\n",
            "Color 1 + Color 2 = magenta\n",
            "Color 1 - Color 2 = black\n",
            "Would you like to continue? [Y]es or [N]o Y\n",
            "Enter color 1: (0,1,0)\n",
            "Enter color 2: (1,0,1)\n",
            "Color 1 + Color 2 = white\n",
            "Color 1 - Color 2 = green\n",
            "Would you like to continue? [Y]es or [N]o Y\n",
            "Enter color 1: green\n",
            "Enter color 2: (1,0,1)\n",
            "Color 1 + Color 2 = white\n",
            "Color 1 - Color 2 = green\n",
            "Would you like to continue? [Y]es or [N]o Y\n",
            "Enter color 1: (1.25,1.5,1.1)\n",
            "Enter color 2: (0.25,0.5,0.1)\n",
            "Color 1 + Color 2 = white\n",
            "Color 1 - Color 2 = (0.75,0.50,0.90)\n",
            "Would you like to continue? [Y]es or [N]o N\n",
            "Thank you, goodbye!\n"
          ],
          "name": "stdout"
        }
      ]
    }
  ]
}