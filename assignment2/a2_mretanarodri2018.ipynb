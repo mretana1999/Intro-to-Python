{
  "nbformat": 4,
  "nbformat_minor": 0,
  "metadata": {
    "colab": {
      "name": "a2_mretanarodri2018.ipynb",
      "provenance": [],
      "collapsed_sections": [],
      "authorship_tag": "ABX9TyOy1UHAp5RDO+fQcvfvf3Vx",
      "include_colab_link": true
    },
    "kernelspec": {
      "name": "python3",
      "display_name": "Python 3"
    },
    "language_info": {
      "name": "python"
    }
  },
  "cells": [
    {
      "cell_type": "markdown",
      "metadata": {
        "id": "view-in-github",
        "colab_type": "text"
      },
      "source": [
        "<a href=\"https://colab.research.google.com/github/mretana1999/Intro-to-Python/blob/main/assignment2/a2_mretanarodri2018.ipynb\" target=\"_parent\"><img src=\"https://colab.research.google.com/assets/colab-badge.svg\" alt=\"Open In Colab\"/></a>"
      ]
    },
    {
      "cell_type": "markdown",
      "metadata": {
        "id": "HAMRN-nddMxO"
      },
      "source": [
        "#Assignment 2: Caesar Cipher \n",
        "Student name: Mauricio Retana Z23484829\n",
        "\n",
        "COP4045 -- Python Programming -- Prof. Oge Marques"
      ]
    },
    {
      "cell_type": "markdown",
      "metadata": {
        "id": "GLcSuTfKF9uV"
      },
      "source": [
        "#Caesar Cipher Baseline Solution:"
      ]
    },
    {
      "cell_type": "code",
      "metadata": {
        "colab": {
          "base_uri": "https://localhost:8080/"
        },
        "id": "dmrzlulxEulc",
        "outputId": "470cc2a4-b13e-4883-efe4-ce09ff3dffc7"
      },
      "source": [
        "print('Welcome to my Caesar cypher app. This program will encrypt or decrypt text that you input')\n",
        "\n",
        "#Function that asks for an integer\n",
        "def ask_for_num():\n",
        "  while True:\n",
        "    number = input('Enter an integer: ')\n",
        "    try:\n",
        "      number = int(number)\n",
        "    except ValueError:\n",
        "      print('That is not an integer, try again: ')\n",
        "      continue\n",
        "    else:\n",
        "      return number\n",
        "\n",
        "def encrypt_or_decrypt(text, key, encrypt = 1):\n",
        "  new_text = ''\n",
        "  if encrypt:\n",
        "    for char in text:\n",
        "      if char.isupper():\n",
        "        new_text += chr((ord(char) + key - 65) % 26 + 65)\n",
        "      elif char.islower():\n",
        "        new_text += chr((ord(char) + key - 97) % 26 + 97)\n",
        "  else:\n",
        "    for char in text:\n",
        "      if char.isupper():\n",
        "        new_text += chr((ord(char) - key - 65) % 26 + 65)\n",
        "      elif char.islower():\n",
        "        new_text += chr((ord(char) - key - 97) % 26 + 97)\n",
        "  return new_text\n",
        "\n",
        "while True:\n",
        "  selection = input('Would you like to Encrypt [E], Decrypt [D], or Exit [X] ')\n",
        "\n",
        "  if selection == 'E' or selection == 'e':\n",
        "    original_text = input('Enter the text that you want to encrypt: ')\n",
        "    user_key = ask_for_num()\n",
        "    new_text = encrypt_or_decrypt(original_text,user_key, 1)\n",
        "    print(new_text)\n",
        "\n",
        "  elif selection == 'D' or selection == 'd':\n",
        "    original_text = input('Enter the text that you want to decrypt: ')\n",
        "    user_key = ask_for_num()\n",
        "    new_text = encrypt_or_decrypt(original_text, user_key, 0)\n",
        "    print(new_text)\n",
        "\n",
        "  elif selection == 'X' or selection == 'x':\n",
        "    break\n",
        "\n",
        "  else:\n",
        "    print('Please enter a valid option')\n",
        "\n",
        "print('\\nThank you, goodbye!')"
      ],
      "execution_count": null,
      "outputs": [
        {
          "output_type": "stream",
          "text": [
            "Welcome to my Caesar cypher app. This program will encrypt or decrypt text that you input\n",
            "Would you like to Encrypt [E], Decrypt [D], or Exit [X] E\n",
            "Enter the text that you want to encrypt: HelLo World\n",
            "Enter an integer: 4\n",
            "LipPsAsvph\n",
            "Would you like to Encrypt [E], Decrypt [D], or Exit [X] d\n",
            "Enter the text that you want to decrypt: LipPsAsvph\n",
            "Enter an integer: 4\n",
            "HelLoWorld\n",
            "Would you like to Encrypt [E], Decrypt [D], or Exit [X] X\n",
            "\n",
            "Thank you, goodbye!\n"
          ],
          "name": "stdout"
        }
      ]
    },
    {
      "cell_type": "markdown",
      "metadata": {
        "id": "7n4Kl8jlc3F9"
      },
      "source": [
        "#Caesar Cipher Improved Solution:"
      ]
    },
    {
      "cell_type": "code",
      "metadata": {
        "colab": {
          "base_uri": "https://localhost:8080/"
        },
        "id": "dIwZJ_FtLcVI",
        "outputId": "570d3d18-2a12-464e-bcd3-79c3309b0995"
      },
      "source": [
        "###########################################################################\n",
        "### COP 4045 - Python Programming - Dr. Oge Marques - FAU - Summer 2021 ###\n",
        "###            Assignment 2: Basic Cryptography app (in Python)         ###\n",
        "###########################################################################\n",
        "###    Student Name: Mauricio Retana Rodriguez,                         ###\n",
        "###     Due date: 5/25/2021   Z#23484829                                ###    \n",
        "###########################################################################\n",
        "\n",
        "import string\n",
        "print('Welcome to my Caesar cipher app. The purpose of this program is to encrypt/decrypt a string of text that you input.')\n",
        "print('This program implements a simple form of encryption called the Caesar cipher algorithm, where each letter is replaced by another letter found further down the alphabet.')\n",
        "print('All you need to do is input your text to be encrypted/decrypted and an integer that will serve as a key to replace each letter in your text.')\n",
        "print('In the case that the user does not know the key when decrypting their message, the user can use the Brute Force option to find their key. \\n')\n",
        "\n",
        "#Function that asks for an integer\n",
        "def ask_for_num():\n",
        "  while True:\n",
        "    number = input('Enter an integer that will be used as a Key: ')\n",
        "    try:\n",
        "      number = int(number)\n",
        "    except ValueError:\n",
        "      print('That is not an integer, try again: ')\n",
        "      continue\n",
        "    else:\n",
        "      return number\n",
        "\n",
        "#Function that encrypts or decrypts a string of text, set encrypt = 1 to encrypt and to 0 to decrypt\n",
        "def encrypt_or_decrypt(text, key, alphabet, encrypt = 1):\n",
        "  new_text = ''\n",
        "  if encrypt:\n",
        "    for char in text:\n",
        "      new_text += alphabet[(alphabet.find(char) + key) % len(alphabet)]\n",
        "  else:\n",
        "    for char in text:\n",
        "      new_text += alphabet[(alphabet.find(char) - key) % len(alphabet)]\n",
        "\n",
        "  return new_text\n",
        "\n",
        "#Function that implements brute force for all possible keys to decrypt a message\n",
        "def brute_force(text, alphabet):\n",
        "  for i in range(len(alphabet)):\n",
        "    print('Key:', i, '=', encrypt_or_decrypt(text, i, alphabet, 0 ))\n",
        "    #display results for 10 keys at a time and ask user to continue\n",
        "    if (i+1) % 10 == 0:\n",
        "      choice = input('Continue Brute forcing? Yes[Y] or No [N]')\n",
        "      if choice == 'Y' or choice == 'y':\n",
        "        continue\n",
        "      else:\n",
        "        #printing a space\n",
        "        print('')\n",
        "        return\n",
        "\n",
        "############################# MAIN ##############################################################\n",
        "\n",
        "#Creating a personalized alphabet to take into account punctuation signs and whitespace\n",
        "alphabet =  string.ascii_lowercase + string.ascii_uppercase + string.punctuation + ' ' + string.digits  \n",
        "\n",
        "while True:\n",
        "  selection = input('Would you like to Encrypt [E], Decrypt [D], or Exit [X] ')\n",
        "\n",
        "  if selection == 'E' or selection == 'e':\n",
        "    original_text = input('Enter the text that you want to encrypt: ')\n",
        "    user_key = ask_for_num()\n",
        "    new_text = encrypt_or_decrypt(original_text,user_key, alphabet, 1)\n",
        "    print('The encrypted text is: ', new_text)\n",
        "\n",
        "  elif selection == 'D' or selection == 'd':\n",
        "    original_text = input('Enter the text that you want to decrypt: ')\n",
        "    user_key = ask_for_num()\n",
        "    new_text = encrypt_or_decrypt(original_text, user_key, alphabet, 0)\n",
        "    print('The decrypted text is: ', new_text)\n",
        "    selection = input('Would you like to use Brute force to find your message instead? Yes [Y] or No [N]')\n",
        "    if selection == 'Y' or selection == 'y':\n",
        "      brute_force(original_text, alphabet)\n",
        "\n",
        "  elif selection == 'X' or selection == 'x':\n",
        "    break\n",
        "\n",
        "  else:\n",
        "    print('Please enter a valid option')\n",
        "\n",
        "print('\\nThank you, goodbye!')"
      ],
      "execution_count": null,
      "outputs": [
        {
          "output_type": "stream",
          "text": [
            "Welcome to my Caesar cipher app. The purpose of this program is to encrypt/decrypt a string of text that you input.\n",
            "This program implements a simple form of encryption called the Caesar cipher algorithm, where each letter is replaced by another letter found further down the alphabet.\n",
            "All you need to do is input your text to be encrypted/decrypted and an integer that will serve as a key to replace each letter in your text.\n",
            "In the case that the user does not know the key when decrypting their message, the user can use the Brute Force option to find their key. \n",
            "\n",
            "Would you like to Encrypt [E], Decrypt [D], or Exit [X] E\n",
            "Enter the text that you want to encrypt: Hola Mundo!\n",
            "Enter an integer that will be used as a Key: 5\n",
            "The encrypted text is:  Mtqf4Rzsit&\n",
            "Would you like to Encrypt [E], Decrypt [D], or Exit [X] D\n",
            "Enter the text that you want to decrypt: Mtqf4Rzsit&\n",
            "Enter an integer that will be used as a Key: 5\n",
            "The decrypted text is:  Hola Mundo!\n",
            "Would you like to use Brute force to find your message instead? Yes [Y] or No [N]Y\n",
            "Key: 0 = Mtqf4Rzsit&\n",
            "Key: 1 = Lspe3Qyrhs%\n",
            "Key: 2 = Krod2Pxqgr$\n",
            "Key: 3 = Jqnc1Owpfq#\n",
            "Key: 4 = Ipmb0Nvoep\"\n",
            "Key: 5 = Hola Mundo!\n",
            "Key: 6 = Gnk9~LtmcnZ\n",
            "Key: 7 = Fmj8}KslbmY\n",
            "Key: 8 = Eli7|JrkalX\n",
            "Key: 9 = Dkh6{Iqj9kW\n",
            "Continue Brute forcing? Yes[Y] or No [N]Y\n",
            "Key: 10 = Cjg5`Hpi8jV\n",
            "Key: 11 = Bif4_Goh7iU\n",
            "Key: 12 = Ahe3^Fng6hT\n",
            "Key: 13 = zgd2]Emf5gS\n",
            "Key: 14 = yfc1\\Dle4fR\n",
            "Key: 15 = xeb0[Ckd3eQ\n",
            "Key: 16 = wda @Bjc2dP\n",
            "Key: 17 = vc9~?Aib1cO\n",
            "Key: 18 = ub8}>zha0bN\n",
            "Key: 19 = ta7|=yg9 aM\n",
            "Continue Brute forcing? Yes[Y] or No [N]N\n",
            "\n",
            "Would you like to Encrypt [E], Decrypt [D], or Exit [X] X\n",
            "\n",
            "Thank you, goodbye!\n"
          ],
          "name": "stdout"
        }
      ]
    },
    {
      "cell_type": "markdown",
      "metadata": {
        "id": "sRFybGiTEonI"
      },
      "source": [
        "#Sandbox"
      ]
    },
    {
      "cell_type": "code",
      "metadata": {
        "colab": {
          "base_uri": "https://localhost:8080/"
        },
        "id": "cjvLaFGF83-U",
        "outputId": "30c0daf2-0b2f-43c0-8b9c-288555d3ba71"
      },
      "source": [
        "import string\n",
        "text = 'lipps\\x0b!svph'\n",
        "alphabet = string.ascii_letters + string.punctuation + string.digits + string.whitespace\n",
        "print(alphabet)\n",
        "shifted_alphabet = alphabet[-4:] + alphabet[:-4]\n",
        "print(shifted_alphabet)\n",
        "table = str.maketrans(alphabet, shifted_alphabet)\n",
        "print(text.translate(table))\n",
        "print(len(alphabet))"
      ],
      "execution_count": null,
      "outputs": [
        {
          "output_type": "stream",
          "text": [
            "abcdefghijklmnopqrstuvwxyzABCDEFGHIJKLMNOPQRSTUVWXYZ!\"#$%&'()*+,-./:;<=>?@[\\]^_`{|}~0123456789 \t\n",
            "\r\u000b\f\n",
            "\n",
            "\r\u000b\fabcdefghijklmnopqrstuvwxyzABCDEFGHIJKLMNOPQRSTUVWXYZ!\"#$%&'()*+,-./:;<=>?@[\\]^_`{|}~0123456789 \t\n",
            "hello World\n",
            "100\n"
          ],
          "name": "stdout"
        }
      ]
    },
    {
      "cell_type": "code",
      "metadata": {
        "id": "bQraU-HE_sev"
      },
      "source": [
        "def encrypt(text, key):\n",
        "  cypher_text = ''\n",
        "  for char in text:\n",
        "    cypher_text += chr((ord(char) + key) % 128)\n",
        "  return cypher_text\n",
        "\n",
        "def decrypt(text, key):\n",
        "  cypher_text = ''\n",
        "  for char in text:\n",
        "    cypher_text += chr((ord(char) - key) % 128)\n",
        "  return cypher_text"
      ],
      "execution_count": null,
      "outputs": []
    },
    {
      "cell_type": "code",
      "metadata": {
        "colab": {
          "base_uri": "https://localhost:8080/",
          "height": 35
        },
        "id": "8xG6KDXkK47U",
        "outputId": "c253644d-c80e-4a0d-e101-dda182f06e3d"
      },
      "source": [
        "def encrypt_or_decrypt(text, key, alphabet, encrypt = 1):\n",
        "  new_text = ''\n",
        "  if encrypt:\n",
        "    for char in text:\n",
        "      new_text += alphabet[alphabet.find(char) + key]\n",
        "  else:\n",
        "    for char in text:\n",
        "      new_text += alphabet[alphabet.find(char) - key]\n",
        "\n",
        "  return new_text\n",
        "\n",
        "encrypt_or_decrypt('Hello World!', 5, alphabet, 1)\n",
        "encrypt_or_decrypt('Mjqqt\\x0c1twqi&', 5, alphabet, 0)\n"
      ],
      "execution_count": null,
      "outputs": [
        {
          "output_type": "execute_result",
          "data": {
            "application/vnd.google.colaboratory.intrinsic+json": {
              "type": "string"
            },
            "text/plain": [
              "'Hello World!'"
            ]
          },
          "metadata": {
            "tags": []
          },
          "execution_count": 11
        }
      ]
    },
    {
      "cell_type": "markdown",
      "metadata": {
        "id": "pGDhvxmSdDBQ"
      },
      "source": [
        "##Solution using str.translate method"
      ]
    },
    {
      "cell_type": "code",
      "metadata": {
        "colab": {
          "base_uri": "https://localhost:8080/"
        },
        "id": "qwTco4reC9Us",
        "outputId": "f7a4e388-e132-4bc8-eb17-3d6d15958ebc"
      },
      "source": [
        "print('Welcome to my Caesar cypher app. This program will encrypt or decrypt text that you input')\n",
        "\n",
        "#Function that asks for an integer\n",
        "def ask_for_num():\n",
        "  while True:\n",
        "    number = input('Enter an integer that will be used as a Key: ')\n",
        "    try:\n",
        "      number = int(number)\n",
        "    except ValueError:\n",
        "      print('That is not an integer, try again: ')\n",
        "      continue\n",
        "    else:\n",
        "      return number\n",
        "\n",
        "def encrypt_or_decrypt(text, key, alphabet, encrypt = 1):\n",
        "  new_text = ''\n",
        "  if encrypt:\n",
        "    shifted_alphabet = alphabet[key:] + alphabet[:key]\n",
        "  else:\n",
        "    shifted_alphabet = alphabet[-key:] + alphabet[:-key]\n",
        "\n",
        "  table = str.maketrans(alphabet, shifted_alphabet)\n",
        "  return text.translate(table)\n",
        "\n",
        "############# MAIN ############################################################################\n",
        "alphabet = string.ascii_letters + string.punctuation + string.digits + string.whitespace\n",
        "\n",
        "while True:\n",
        "  selection = input('Would you like to Encrypt [E], Decrypt [D], or Exit [X] ')\n",
        "\n",
        "  if selection == 'E' or selection == 'e':\n",
        "    original_text = input('Enter the text that you want to encrypt: ')\n",
        "    user_key = ask_for_num()\n",
        "    new_text = encrypt_or_decrypt(original_text,user_key, alphabet, 1)\n",
        "    print('The encrypted text is: ', new_text)\n",
        "\n",
        "  elif selection == 'D' or selection == 'd':\n",
        "    original_text = input('Enter the text that you want to decrypt: ')\n",
        "    user_key = ask_for_num()\n",
        "    new_text = encrypt_or_decrypt(original_text, user_key, alphabet, 0)\n",
        "    print('The decrypted text is: ', new_text)\n",
        "\n",
        "  elif selection == 'X' or selection == 'x':\n",
        "    break\n",
        "\n",
        "  else:\n",
        "    print('Please enter a valid option')\n",
        "\n",
        "print('\\nThank you, goodbye!')"
      ],
      "execution_count": null,
      "outputs": [
        {
          "output_type": "stream",
          "text": [
            "Welcome to my Caesar cypher app. This program will encrypt or decrypt text that you input\n",
            "Would you like to Encrypt [E], Decrypt [D], or Exit [X] e\n",
            "Enter the text that you want to encrypt: Caesar cypher!\n",
            "Enter an integer that will be used as a Key: 10\n",
            "The encrypted text is:  MkoCkBemIzroB+\n",
            "Would you like to Encrypt [E], Decrypt [D], or Exit [X] d\n",
            "Enter the text that you want to decrypt: MkoCkBemIzroB+\n",
            "Enter an integer that will be used as a Key: 10\n",
            "The decrypted text is:  Caesar cypher!\n",
            "Would you like to Encrypt [E], Decrypt [D], or Exit [X] x\n",
            "\n",
            "Thank you, goodbye!\n"
          ],
          "name": "stdout"
        }
      ]
    },
    {
      "cell_type": "code",
      "metadata": {
        "colab": {
          "base_uri": "https://localhost:8080/"
        },
        "id": "mG931cooYIRJ",
        "outputId": "82a1b659-5ce6-4df1-fbcd-d966e8dfd25a"
      },
      "source": [
        "import string\n",
        "print(string.whitespace)"
      ],
      "execution_count": null,
      "outputs": [
        {
          "output_type": "stream",
          "text": [
            " \t\n",
            "\r\u000b\f\n"
          ],
          "name": "stdout"
        }
      ]
    }
  ]
}